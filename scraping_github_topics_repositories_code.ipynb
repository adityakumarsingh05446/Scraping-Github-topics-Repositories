{
  "nbformat": 4,
  "nbformat_minor": 0,
  "metadata": {
    "colab": {
      "name": "scraping-github-topics-repositories_code.ipynb",
      "provenance": [],
      "collapsed_sections": []
    },
    "kernelspec": {
      "name": "python3",
      "display_name": "Python 3"
    },
    "language_info": {
      "name": "python"
    }
  },
  "cells": [
    {
      "cell_type": "markdown",
      "metadata": {
        "id": "uTsr6HgcShDY"
      },
      "source": [
        "#**Top repositories for github trending topics**"
      ]
    },
    {
      "cell_type": "markdown",
      "metadata": {
        "id": "mhSkY9GdTl46"
      },
      "source": [
        "**Pick a website and describe your objective**\n",
        "- Browse through different sites and pick on to scrape. Check the \"Project Ideas\" section for inspiration.\n",
        "- Identify the information you'd like to scrape from the site. Decide the format of the output CSV file.\n",
        "- Summarize your project idea and outline your strategy in a Juptyer notebook. "
      ]
    },
    {
      "cell_type": "markdown",
      "metadata": {
        "id": "YFwvfmOnWbJc"
      },
      "source": [
        "**Outline Strategy** :\n",
        "- We're going to scrape https://github.com/topics\n",
        "- We'll get a list of trending topics. For each topic we'll get topic title , topic page url and topic description.\n",
        "- For each topic , we'll get top 25 repositories from its topic page\n",
        "- For each repository we'll grab repo name , username , stars and its repo url\n",
        "- For each topic we'll create a CSV file\n"
      ]
    },
    {
      "cell_type": "markdown",
      "metadata": {
        "id": "9JzbZq-TTvlY"
      },
      "source": [
        "**Use the requests library to download web pages**"
      ]
    },
    {
      "cell_type": "code",
      "metadata": {
        "id": "Xwkn3SGBRyut",
        "colab": {
          "base_uri": "https://localhost:8080/"
        },
        "outputId": "13ba94ad-0d68-41fa-e6f8-e4dac023eb9c"
      },
      "source": [
        "!pip install requests --upgrade --quiet"
      ],
      "execution_count": 2,
      "outputs": [
        {
          "output_type": "stream",
          "name": "stdout",
          "text": [
            "\u001b[?25l\r\u001b[K     |█████▎                          | 10 kB 19.9 MB/s eta 0:00:01\r\u001b[K     |██████████▌                     | 20 kB 25.1 MB/s eta 0:00:01\r\u001b[K     |███████████████▉                | 30 kB 13.1 MB/s eta 0:00:01\r\u001b[K     |█████████████████████           | 40 kB 10.0 MB/s eta 0:00:01\r\u001b[K     |██████████████████████████▎     | 51 kB 5.2 MB/s eta 0:00:01\r\u001b[K     |███████████████████████████████▋| 61 kB 5.7 MB/s eta 0:00:01\r\u001b[K     |████████████████████████████████| 62 kB 603 kB/s \n",
            "\u001b[31mERROR: pip's dependency resolver does not currently take into account all the packages that are installed. This behaviour is the source of the following dependency conflicts.\n",
            "google-colab 1.0.0 requires requests~=2.23.0, but you have requests 2.26.0 which is incompatible.\n",
            "datascience 0.10.6 requires folium==0.2.1, but you have folium 0.8.3 which is incompatible.\u001b[0m\n",
            "\u001b[?25h"
          ]
        }
      ]
    },
    {
      "cell_type": "code",
      "metadata": {
        "colab": {
          "base_uri": "https://localhost:8080/"
        },
        "id": "dHFGco78T8Wi",
        "outputId": "928346c1-fd4e-4e93-b739-0e9852aa2df4"
      },
      "source": [
        "import requests\n",
        "\n",
        "topic_url = 'https://github.com/topics'\n",
        "\n",
        "response = requests.get(topic_url) # creating a response  variable to get the index.html page\n",
        "response.status_code # To check the response was successful or not"
      ],
      "execution_count": 3,
      "outputs": [
        {
          "output_type": "execute_result",
          "data": {
            "text/plain": [
              "200"
            ]
          },
          "metadata": {},
          "execution_count": 3
        }
      ]
    },
    {
      "cell_type": "code",
      "metadata": {
        "colab": {
          "base_uri": "https://localhost:8080/"
        },
        "id": "bS4TSh21e9Wv",
        "outputId": "56743ecf-b530-4a54-f428-dce1cca9e16e"
      },
      "source": [
        "len(response.text) # To check how much data is stored under response"
      ],
      "execution_count": 4,
      "outputs": [
        {
          "output_type": "execute_result",
          "data": {
            "text/plain": [
              "139848"
            ]
          },
          "metadata": {},
          "execution_count": 4
        }
      ]
    },
    {
      "cell_type": "code",
      "metadata": {
        "colab": {
          "base_uri": "https://localhost:8080/",
          "height": 35
        },
        "id": "7J0q4hlEfJxI",
        "outputId": "38863c72-f44d-4c2a-c51a-16f18a7f232d"
      },
      "source": [
        "page_contents = response.text\n",
        "page_contents[:100] # checking first"
      ],
      "execution_count": 5,
      "outputs": [
        {
          "output_type": "execute_result",
          "data": {
            "application/vnd.google.colaboratory.intrinsic+json": {
              "type": "string"
            },
            "text/plain": [
              "'\\n\\n<!DOCTYPE html>\\n<html lang=\"en\" data-color-mode=\"auto\" data-light-theme=\"light\" data-dark-theme=\"d'"
            ]
          },
          "metadata": {},
          "execution_count": 5
        }
      ]
    },
    {
      "cell_type": "code",
      "metadata": {
        "id": "gwDOhbKGgMNH"
      },
      "source": [
        "with open('web_page.html', 'w') as f: # getting a local copy of html file\n",
        "  f.write(page_contents)"
      ],
      "execution_count": 6,
      "outputs": []
    },
    {
      "cell_type": "markdown",
      "metadata": {
        "id": "cCIqNN_qT88O"
      },
      "source": [
        "**Use Beautiful Soup to parse and extract information**"
      ]
    },
    {
      "cell_type": "code",
      "metadata": {
        "id": "Cii2afreUDNV"
      },
      "source": [
        "!pip install bs4 --upgrade --quiet"
      ],
      "execution_count": 7,
      "outputs": []
    },
    {
      "cell_type": "code",
      "metadata": {
        "id": "2mHM-9FNUDAL"
      },
      "source": [
        "from bs4 import BeautifulSoup"
      ],
      "execution_count": 8,
      "outputs": []
    },
    {
      "cell_type": "code",
      "metadata": {
        "id": "20T_GeqziXTx"
      },
      "source": [
        "doc = BeautifulSoup(page_contents , 'html.parser')"
      ],
      "execution_count": 9,
      "outputs": []
    },
    {
      "cell_type": "code",
      "metadata": {
        "colab": {
          "base_uri": "https://localhost:8080/"
        },
        "id": "Zy_qmamRnx0C",
        "outputId": "a2f43b50-c5fe-455b-af2e-313221bae681"
      },
      "source": [
        "type(doc)"
      ],
      "execution_count": 10,
      "outputs": [
        {
          "output_type": "execute_result",
          "data": {
            "text/plain": [
              "bs4.BeautifulSoup"
            ]
          },
          "metadata": {},
          "execution_count": 10
        }
      ]
    },
    {
      "cell_type": "markdown",
      "metadata": {
        "id": "BBBWiniU2nUN"
      },
      "source": [
        "We need 3 things\n",
        "- topic name(tag)\n",
        "- topic description\n",
        "- topic url"
      ]
    },
    {
      "cell_type": "code",
      "metadata": {
        "colab": {
          "base_uri": "https://localhost:8080/"
        },
        "id": "gZx9RO_7pD6G",
        "outputId": "e1d4d70f-3e0f-464e-8719-b3dfddcffc9c"
      },
      "source": [
        "topic_title_tags = doc.find_all('p')\n",
        "len(topic_title_tags)"
      ],
      "execution_count": 11,
      "outputs": [
        {
          "output_type": "execute_result",
          "data": {
            "text/plain": [
              "67"
            ]
          },
          "metadata": {},
          "execution_count": 11
        }
      ]
    },
    {
      "cell_type": "code",
      "metadata": {
        "id": "EDw6GVH8pXmA",
        "colab": {
          "base_uri": "https://localhost:8080/"
        },
        "outputId": "1b30c47c-d47a-4390-d341-14470506cb94"
      },
      "source": [
        "topic_title_tags[:5]"
      ],
      "execution_count": 12,
      "outputs": [
        {
          "output_type": "execute_result",
          "data": {
            "text/plain": [
              "[<p class=\"f4 color-text-secondary col-md-6 mx-auto\">Browse popular topics on GitHub.</p>,\n",
              " <p class=\"f3 lh-condensed text-center Link--primary mb-0 mt-1\">\n",
              "         .NET\n",
              "       </p>,\n",
              " <p class=\"f5 color-text-secondary text-center mb-0 mt-1\">.NET is a free, cross-platform, open source developer platform.</p>,\n",
              " <p class=\"f3 lh-condensed text-center Link--primary mb-0 mt-1\">\n",
              "         TypeScript\n",
              "       </p>,\n",
              " <p class=\"f5 color-text-secondary text-center mb-0 mt-1\">TypeScript is a typed superset of JavaScript that compiles to plain JavaScript.</p>]"
            ]
          },
          "metadata": {},
          "execution_count": 12
        }
      ]
    },
    {
      "cell_type": "code",
      "metadata": {
        "colab": {
          "base_uri": "https://localhost:8080/"
        },
        "id": "EQToydIqt0Ab",
        "outputId": "50471f69-a0e4-447d-ee02-ada86007f255"
      },
      "source": [
        "# Generic method to find p_tags while searching under specific class\n",
        "selection_class = 'f3 lh-condensed mb-0 mt-1 Link--primary'\n",
        "topic_title_tags = doc.find_all('p',class_=selection_class)\n",
        "len(topic_title_tags) # there are about 30 topics in a page"
      ],
      "execution_count": 13,
      "outputs": [
        {
          "output_type": "execute_result",
          "data": {
            "text/plain": [
              "30"
            ]
          },
          "metadata": {},
          "execution_count": 13
        }
      ]
    },
    {
      "cell_type": "code",
      "metadata": {
        "colab": {
          "base_uri": "https://localhost:8080/"
        },
        "id": "s_do-kpMuvoT",
        "outputId": "927c2b91-2a1f-45c9-f385-c196d04f2c39"
      },
      "source": [
        "topic_title_tags[:5]"
      ],
      "execution_count": 14,
      "outputs": [
        {
          "output_type": "execute_result",
          "data": {
            "text/plain": [
              "[<p class=\"f3 lh-condensed mb-0 mt-1 Link--primary\">3D</p>,\n",
              " <p class=\"f3 lh-condensed mb-0 mt-1 Link--primary\">Ajax</p>,\n",
              " <p class=\"f3 lh-condensed mb-0 mt-1 Link--primary\">Algorithm</p>,\n",
              " <p class=\"f3 lh-condensed mb-0 mt-1 Link--primary\">Amp</p>,\n",
              " <p class=\"f3 lh-condensed mb-0 mt-1 Link--primary\">Android</p>]"
            ]
          },
          "metadata": {},
          "execution_count": 14
        }
      ]
    },
    {
      "cell_type": "code",
      "metadata": {
        "colab": {
          "base_uri": "https://localhost:8080/"
        },
        "id": "qn_kG1uBu6wv",
        "outputId": "e531d64d-649f-4017-f421-b5ab55d7b018"
      },
      "source": [
        "# Generic method to find topic description while searching under specific class\n",
        "desc_selector = 'f5 color-text-secondary mb-0 mt-1'\n",
        "topic_desc_tags = doc.find_all('p',class_=desc_selector)\n",
        "print(topic_desc_tags[0:5])\n",
        "print(len(topic_desc_tags))"
      ],
      "execution_count": 15,
      "outputs": [
        {
          "output_type": "stream",
          "name": "stdout",
          "text": [
            "[<p class=\"f5 color-text-secondary mb-0 mt-1\">\n",
            "              3D modeling is the process of virtually developing the surface and structure of a 3D object.\n",
            "            </p>, <p class=\"f5 color-text-secondary mb-0 mt-1\">\n",
            "              Ajax is a technique for creating interactive web applications.\n",
            "            </p>, <p class=\"f5 color-text-secondary mb-0 mt-1\">\n",
            "              Algorithms are self-contained sequences that carry out a variety of tasks.\n",
            "            </p>, <p class=\"f5 color-text-secondary mb-0 mt-1\">\n",
            "              Amp is a non-blocking concurrency framework for PHP.\n",
            "            </p>, <p class=\"f5 color-text-secondary mb-0 mt-1\">\n",
            "              Android is an operating system built by Google designed for mobile devices.\n",
            "            </p>]\n",
            "30\n"
          ]
        }
      ]
    },
    {
      "cell_type": "code",
      "metadata": {
        "colab": {
          "base_uri": "https://localhost:8080/",
          "height": 69
        },
        "id": "SdR714xhyRtN",
        "outputId": "b7deb001-895b-4fdc-cfe9-533cd683238c"
      },
      "source": [
        "# Generic method to find topic url \n",
        "topic_link_tags = doc.find_all('a',class_='d-flex no-underline')\n",
        "print(topic_link_tags[0]['href'])\n",
        "#print(len(topic_link_tags))\n",
        "topic_0_url = \"https://github.com\"+ topic_link_tags[0]['href']\n",
        "print(topic_0_url)\n",
        "\n",
        "\"\"\"\n",
        "/topics/3d\n",
        "https://github.com/topics/3d\n",
        "\"\"\""
      ],
      "execution_count": 16,
      "outputs": [
        {
          "output_type": "stream",
          "name": "stdout",
          "text": [
            "/topics/3d\n",
            "https://github.com/topics/3d\n"
          ]
        },
        {
          "output_type": "execute_result",
          "data": {
            "application/vnd.google.colaboratory.intrinsic+json": {
              "type": "string"
            },
            "text/plain": [
              "'\\n/topics/3d\\nhttps://github.com/topics/3d\\n'"
            ]
          },
          "metadata": {},
          "execution_count": 16
        }
      ]
    },
    {
      "cell_type": "code",
      "metadata": {
        "id": "DQqTvKOX3WIU",
        "colab": {
          "base_uri": "https://localhost:8080/"
        },
        "outputId": "b6a4797b-2376-481b-d1fb-67b4fcbe44c4"
      },
      "source": [
        "# Topic related functions for tags , description and url\n",
        "\n",
        "#topic_title_tags[0].text # output is '3D'\n",
        "\n",
        "topic_titles = []\n",
        "for tag in topic_title_tags:\n",
        "  topic_titles.append(tag.text)\n",
        "\n",
        "print(topic_titles)"
      ],
      "execution_count": 17,
      "outputs": [
        {
          "output_type": "stream",
          "name": "stdout",
          "text": [
            "['3D', 'Ajax', 'Algorithm', 'Amp', 'Android', 'Angular', 'Ansible', 'API', 'Arduino', 'ASP.NET', 'Atom', 'Awesome Lists', 'Amazon Web Services', 'Azure', 'Babel', 'Bash', 'Bitcoin', 'Bootstrap', 'Bot', 'C', 'Chrome', 'Chrome extension', 'Command line interface', 'Clojure', 'Code quality', 'Code review', 'Compiler', 'Continuous integration', 'COVID-19', 'C++']\n"
          ]
        }
      ]
    },
    {
      "cell_type": "code",
      "metadata": {
        "id": "c41sQ2azVnYs",
        "colab": {
          "base_uri": "https://localhost:8080/"
        },
        "outputId": "b9aaa7d3-5c0d-4a64-9303-d60714db4f9f"
      },
      "source": [
        "topic_descs = []\n",
        "for desc in topic_desc_tags:\n",
        "  topic_descs.append(desc.text.strip())\n",
        "\n",
        "print(topic_descs[:3])"
      ],
      "execution_count": 18,
      "outputs": [
        {
          "output_type": "stream",
          "name": "stdout",
          "text": [
            "['3D modeling is the process of virtually developing the surface and structure of a 3D object.', 'Ajax is a technique for creating interactive web applications.', 'Algorithms are self-contained sequences that carry out a variety of tasks.']\n"
          ]
        }
      ]
    },
    {
      "cell_type": "code",
      "metadata": {
        "colab": {
          "base_uri": "https://localhost:8080/"
        },
        "id": "-cDlmVT4WlFd",
        "outputId": "36e6ecc4-85d0-4dd0-ade3-c75df8fa72de"
      },
      "source": [
        "topic_urls = []\n",
        "base_url = \"https://github.com\"\n",
        "for url in topic_link_tags:\n",
        "  topic_urls.append(base_url + url['href'])\n",
        "\n",
        "print(topic_urls[:2])"
      ],
      "execution_count": 19,
      "outputs": [
        {
          "output_type": "stream",
          "name": "stdout",
          "text": [
            "['https://github.com/topics/3d', 'https://github.com/topics/ajax']\n"
          ]
        }
      ]
    },
    {
      "cell_type": "code",
      "metadata": {
        "id": "pwB-qw64YcDf"
      },
      "source": [
        "!pip install pandas --quiet\n",
        "import pandas as pd"
      ],
      "execution_count": 20,
      "outputs": []
    },
    {
      "cell_type": "code",
      "metadata": {
        "id": "6pRG1JZ_ZIH7",
        "colab": {
          "base_uri": "https://localhost:8080/",
          "height": 973
        },
        "outputId": "58b18e24-b248-45ac-8265-5d92132603af"
      },
      "source": [
        "topics_dict = {\n",
        "    'title':topic_titles,\n",
        "    'description':topic_descs,\n",
        "    'url':topic_urls\n",
        "}\n",
        "topics_df = pd.DataFrame(topics_dict)\n",
        "topics_df"
      ],
      "execution_count": 21,
      "outputs": [
        {
          "output_type": "execute_result",
          "data": {
            "text/html": [
              "<div>\n",
              "<style scoped>\n",
              "    .dataframe tbody tr th:only-of-type {\n",
              "        vertical-align: middle;\n",
              "    }\n",
              "\n",
              "    .dataframe tbody tr th {\n",
              "        vertical-align: top;\n",
              "    }\n",
              "\n",
              "    .dataframe thead th {\n",
              "        text-align: right;\n",
              "    }\n",
              "</style>\n",
              "<table border=\"1\" class=\"dataframe\">\n",
              "  <thead>\n",
              "    <tr style=\"text-align: right;\">\n",
              "      <th></th>\n",
              "      <th>title</th>\n",
              "      <th>description</th>\n",
              "      <th>url</th>\n",
              "    </tr>\n",
              "  </thead>\n",
              "  <tbody>\n",
              "    <tr>\n",
              "      <th>0</th>\n",
              "      <td>3D</td>\n",
              "      <td>3D modeling is the process of virtually develo...</td>\n",
              "      <td>https://github.com/topics/3d</td>\n",
              "    </tr>\n",
              "    <tr>\n",
              "      <th>1</th>\n",
              "      <td>Ajax</td>\n",
              "      <td>Ajax is a technique for creating interactive w...</td>\n",
              "      <td>https://github.com/topics/ajax</td>\n",
              "    </tr>\n",
              "    <tr>\n",
              "      <th>2</th>\n",
              "      <td>Algorithm</td>\n",
              "      <td>Algorithms are self-contained sequences that c...</td>\n",
              "      <td>https://github.com/topics/algorithm</td>\n",
              "    </tr>\n",
              "    <tr>\n",
              "      <th>3</th>\n",
              "      <td>Amp</td>\n",
              "      <td>Amp is a non-blocking concurrency framework fo...</td>\n",
              "      <td>https://github.com/topics/amphp</td>\n",
              "    </tr>\n",
              "    <tr>\n",
              "      <th>4</th>\n",
              "      <td>Android</td>\n",
              "      <td>Android is an operating system built by Google...</td>\n",
              "      <td>https://github.com/topics/android</td>\n",
              "    </tr>\n",
              "    <tr>\n",
              "      <th>5</th>\n",
              "      <td>Angular</td>\n",
              "      <td>Angular is an open source web application plat...</td>\n",
              "      <td>https://github.com/topics/angular</td>\n",
              "    </tr>\n",
              "    <tr>\n",
              "      <th>6</th>\n",
              "      <td>Ansible</td>\n",
              "      <td>Ansible is a simple and powerful automation en...</td>\n",
              "      <td>https://github.com/topics/ansible</td>\n",
              "    </tr>\n",
              "    <tr>\n",
              "      <th>7</th>\n",
              "      <td>API</td>\n",
              "      <td>An API (Application Programming Interface) is ...</td>\n",
              "      <td>https://github.com/topics/api</td>\n",
              "    </tr>\n",
              "    <tr>\n",
              "      <th>8</th>\n",
              "      <td>Arduino</td>\n",
              "      <td>Arduino is an open source hardware and softwar...</td>\n",
              "      <td>https://github.com/topics/arduino</td>\n",
              "    </tr>\n",
              "    <tr>\n",
              "      <th>9</th>\n",
              "      <td>ASP.NET</td>\n",
              "      <td>ASP.NET is a web framework for building modern...</td>\n",
              "      <td>https://github.com/topics/aspnet</td>\n",
              "    </tr>\n",
              "    <tr>\n",
              "      <th>10</th>\n",
              "      <td>Atom</td>\n",
              "      <td>Atom is a open source text editor built with w...</td>\n",
              "      <td>https://github.com/topics/atom</td>\n",
              "    </tr>\n",
              "    <tr>\n",
              "      <th>11</th>\n",
              "      <td>Awesome Lists</td>\n",
              "      <td>An awesome list is a list of awesome things cu...</td>\n",
              "      <td>https://github.com/topics/awesome</td>\n",
              "    </tr>\n",
              "    <tr>\n",
              "      <th>12</th>\n",
              "      <td>Amazon Web Services</td>\n",
              "      <td>Amazon Web Services provides on-demand cloud c...</td>\n",
              "      <td>https://github.com/topics/aws</td>\n",
              "    </tr>\n",
              "    <tr>\n",
              "      <th>13</th>\n",
              "      <td>Azure</td>\n",
              "      <td>Azure is a cloud computing service created by ...</td>\n",
              "      <td>https://github.com/topics/azure</td>\n",
              "    </tr>\n",
              "    <tr>\n",
              "      <th>14</th>\n",
              "      <td>Babel</td>\n",
              "      <td>Babel is a compiler for writing next generatio...</td>\n",
              "      <td>https://github.com/topics/babel</td>\n",
              "    </tr>\n",
              "    <tr>\n",
              "      <th>15</th>\n",
              "      <td>Bash</td>\n",
              "      <td>Bash is a shell and command language interpret...</td>\n",
              "      <td>https://github.com/topics/bash</td>\n",
              "    </tr>\n",
              "    <tr>\n",
              "      <th>16</th>\n",
              "      <td>Bitcoin</td>\n",
              "      <td>Bitcoin is a cryptocurrency developed by Satos...</td>\n",
              "      <td>https://github.com/topics/bitcoin</td>\n",
              "    </tr>\n",
              "    <tr>\n",
              "      <th>17</th>\n",
              "      <td>Bootstrap</td>\n",
              "      <td>Bootstrap is an HTML, CSS, and JavaScript fram...</td>\n",
              "      <td>https://github.com/topics/bootstrap</td>\n",
              "    </tr>\n",
              "    <tr>\n",
              "      <th>18</th>\n",
              "      <td>Bot</td>\n",
              "      <td>A bot is an application that runs automated ta...</td>\n",
              "      <td>https://github.com/topics/bot</td>\n",
              "    </tr>\n",
              "    <tr>\n",
              "      <th>19</th>\n",
              "      <td>C</td>\n",
              "      <td>C is a general purpose programming language th...</td>\n",
              "      <td>https://github.com/topics/c</td>\n",
              "    </tr>\n",
              "    <tr>\n",
              "      <th>20</th>\n",
              "      <td>Chrome</td>\n",
              "      <td>Chrome is a web browser from the tech company ...</td>\n",
              "      <td>https://github.com/topics/chrome</td>\n",
              "    </tr>\n",
              "    <tr>\n",
              "      <th>21</th>\n",
              "      <td>Chrome extension</td>\n",
              "      <td>Google Chrome Extensions are add-ons that allo...</td>\n",
              "      <td>https://github.com/topics/chrome-extension</td>\n",
              "    </tr>\n",
              "    <tr>\n",
              "      <th>22</th>\n",
              "      <td>Command line interface</td>\n",
              "      <td>A CLI, or command-line interface, is a console...</td>\n",
              "      <td>https://github.com/topics/cli</td>\n",
              "    </tr>\n",
              "    <tr>\n",
              "      <th>23</th>\n",
              "      <td>Clojure</td>\n",
              "      <td>Clojure is a dynamic, general-purpose programm...</td>\n",
              "      <td>https://github.com/topics/clojure</td>\n",
              "    </tr>\n",
              "    <tr>\n",
              "      <th>24</th>\n",
              "      <td>Code quality</td>\n",
              "      <td>Automate your code review with style, quality,...</td>\n",
              "      <td>https://github.com/topics/code-quality</td>\n",
              "    </tr>\n",
              "    <tr>\n",
              "      <th>25</th>\n",
              "      <td>Code review</td>\n",
              "      <td>Ensure your code meets quality standards and s...</td>\n",
              "      <td>https://github.com/topics/code-review</td>\n",
              "    </tr>\n",
              "    <tr>\n",
              "      <th>26</th>\n",
              "      <td>Compiler</td>\n",
              "      <td>Compilers are software that translate higher-l...</td>\n",
              "      <td>https://github.com/topics/compiler</td>\n",
              "    </tr>\n",
              "    <tr>\n",
              "      <th>27</th>\n",
              "      <td>Continuous integration</td>\n",
              "      <td>Automatically build and test your code as you ...</td>\n",
              "      <td>https://github.com/topics/continuous-integration</td>\n",
              "    </tr>\n",
              "    <tr>\n",
              "      <th>28</th>\n",
              "      <td>COVID-19</td>\n",
              "      <td>The coronavirus disease 2019 (COVID-19) is an ...</td>\n",
              "      <td>https://github.com/topics/covid-19</td>\n",
              "    </tr>\n",
              "    <tr>\n",
              "      <th>29</th>\n",
              "      <td>C++</td>\n",
              "      <td>C++ is a general purpose and object-oriented p...</td>\n",
              "      <td>https://github.com/topics/cpp</td>\n",
              "    </tr>\n",
              "  </tbody>\n",
              "</table>\n",
              "</div>"
            ],
            "text/plain": [
              "                     title  ...                                               url\n",
              "0                       3D  ...                      https://github.com/topics/3d\n",
              "1                     Ajax  ...                    https://github.com/topics/ajax\n",
              "2                Algorithm  ...               https://github.com/topics/algorithm\n",
              "3                      Amp  ...                   https://github.com/topics/amphp\n",
              "4                  Android  ...                 https://github.com/topics/android\n",
              "5                  Angular  ...                 https://github.com/topics/angular\n",
              "6                  Ansible  ...                 https://github.com/topics/ansible\n",
              "7                      API  ...                     https://github.com/topics/api\n",
              "8                  Arduino  ...                 https://github.com/topics/arduino\n",
              "9                  ASP.NET  ...                  https://github.com/topics/aspnet\n",
              "10                    Atom  ...                    https://github.com/topics/atom\n",
              "11           Awesome Lists  ...                 https://github.com/topics/awesome\n",
              "12     Amazon Web Services  ...                     https://github.com/topics/aws\n",
              "13                   Azure  ...                   https://github.com/topics/azure\n",
              "14                   Babel  ...                   https://github.com/topics/babel\n",
              "15                    Bash  ...                    https://github.com/topics/bash\n",
              "16                 Bitcoin  ...                 https://github.com/topics/bitcoin\n",
              "17               Bootstrap  ...               https://github.com/topics/bootstrap\n",
              "18                     Bot  ...                     https://github.com/topics/bot\n",
              "19                       C  ...                       https://github.com/topics/c\n",
              "20                  Chrome  ...                  https://github.com/topics/chrome\n",
              "21        Chrome extension  ...        https://github.com/topics/chrome-extension\n",
              "22  Command line interface  ...                     https://github.com/topics/cli\n",
              "23                 Clojure  ...                 https://github.com/topics/clojure\n",
              "24            Code quality  ...            https://github.com/topics/code-quality\n",
              "25             Code review  ...             https://github.com/topics/code-review\n",
              "26                Compiler  ...                https://github.com/topics/compiler\n",
              "27  Continuous integration  ...  https://github.com/topics/continuous-integration\n",
              "28                COVID-19  ...                https://github.com/topics/covid-19\n",
              "29                     C++  ...                     https://github.com/topics/cpp\n",
              "\n",
              "[30 rows x 3 columns]"
            ]
          },
          "metadata": {},
          "execution_count": 21
        }
      ]
    },
    {
      "cell_type": "markdown",
      "metadata": {
        "id": "AARPmj7ja5ot"
      },
      "source": [
        "**Getting information from each individual topic**\n",
        "- repository name \n",
        "- username of repository\n",
        "- stars corresponding to repository\n",
        "- repository url"
      ]
    },
    {
      "cell_type": "code",
      "metadata": {
        "id": "gy-0F0WFbDi7",
        "colab": {
          "base_uri": "https://localhost:8080/",
          "height": 35
        },
        "outputId": "bfb4bcc0-d9cd-4d06-f382-fdb62d5cbeed"
      },
      "source": [
        "topic_page_url = topic_urls[0]\n",
        "topic_page_url\n"
      ],
      "execution_count": 22,
      "outputs": [
        {
          "output_type": "execute_result",
          "data": {
            "application/vnd.google.colaboratory.intrinsic+json": {
              "type": "string"
            },
            "text/plain": [
              "'https://github.com/topics/3d'"
            ]
          },
          "metadata": {},
          "execution_count": 22
        }
      ]
    },
    {
      "cell_type": "code",
      "metadata": {
        "colab": {
          "base_uri": "https://localhost:8080/"
        },
        "id": "1i6-GADGhBRy",
        "outputId": "b605f80b-8e76-4449-c039-619b252c86d7"
      },
      "source": [
        "response = requests.get(topic_page_url)\n",
        "response.status_code"
      ],
      "execution_count": 23,
      "outputs": [
        {
          "output_type": "execute_result",
          "data": {
            "text/plain": [
              "200"
            ]
          },
          "metadata": {},
          "execution_count": 23
        }
      ]
    },
    {
      "cell_type": "code",
      "metadata": {
        "colab": {
          "base_uri": "https://localhost:8080/"
        },
        "id": "TB3ezZWjhVGx",
        "outputId": "f90fa391-21ca-40fe-e358-233a601f3ed8"
      },
      "source": [
        "len(response.text)"
      ],
      "execution_count": 24,
      "outputs": [
        {
          "output_type": "execute_result",
          "data": {
            "text/plain": [
              "624993"
            ]
          },
          "metadata": {},
          "execution_count": 24
        }
      ]
    },
    {
      "cell_type": "code",
      "metadata": {
        "id": "tGeYUT-HhcGq"
      },
      "source": [
        "topic_doc = BeautifulSoup(response.text , 'html.parser')"
      ],
      "execution_count": 25,
      "outputs": []
    },
    {
      "cell_type": "code",
      "metadata": {
        "colab": {
          "base_uri": "https://localhost:8080/"
        },
        "id": "OyX2DaGVhvBe",
        "outputId": "c4f4a754-3bf3-48ad-e913-8ecea2cc0f69"
      },
      "source": [
        "h3_selection_class = 'f3 color-text-secondary text-normal lh-condensed'\n",
        "repo_tags = topic_doc.find_all('h3',class_=h3_selection_class)\n",
        "len(repo_tags)\n",
        "          "
      ],
      "execution_count": 26,
      "outputs": [
        {
          "output_type": "execute_result",
          "data": {
            "text/plain": [
              "30"
            ]
          },
          "metadata": {},
          "execution_count": 26
        }
      ]
    },
    {
      "cell_type": "code",
      "metadata": {
        "colab": {
          "base_uri": "https://localhost:8080/"
        },
        "id": "f55Y5fy9hu4W",
        "outputId": "84088e3c-3d74-4d11-bc0b-fff53a1b7718"
      },
      "source": [
        "a_tags = repo_tags[0].find_all('a')\n",
        "a_tags"
      ],
      "execution_count": 27,
      "outputs": [
        {
          "output_type": "execute_result",
          "data": {
            "text/plain": [
              "[<a data-ga-click=\"Explore, go to repository owner, location:explore feed\" data-hydro-click='{\"event_type\":\"explore.click\",\"payload\":{\"click_context\":\"REPOSITORY_CARD\",\"click_target\":\"OWNER\",\"click_visual_representation\":\"REPOSITORY_OWNER_HEADING\",\"actor_id\":null,\"record_id\":97088,\"originating_url\":\"https://github.com/topics/3d\",\"user_id\":null}}' data-hydro-click-hmac=\"4bdbc49d3c05ae7f70b531fbce709a384200b0768554e0172950286a8db30940\" data-view-component=\"true\" href=\"/mrdoob\">\n",
              "             mrdoob\n",
              " </a>,\n",
              " <a class=\"wb-break-word text-bold\" data-ga-click=\"Explore, go to repository, location:explore feed\" data-hydro-click='{\"event_type\":\"explore.click\",\"payload\":{\"click_context\":\"REPOSITORY_CARD\",\"click_target\":\"REPOSITORY\",\"click_visual_representation\":\"REPOSITORY_NAME_HEADING\",\"actor_id\":null,\"record_id\":576201,\"originating_url\":\"https://github.com/topics/3d\",\"user_id\":null}}' data-hydro-click-hmac=\"517d3d5cb9d89752156923904a4238816bc9b51ab7772f3e3644ce897d8dd4e5\" data-view-component=\"true\" href=\"/mrdoob/three.js\">\n",
              "             three.js\n",
              " </a>]"
            ]
          },
          "metadata": {},
          "execution_count": 27
        }
      ]
    },
    {
      "cell_type": "code",
      "metadata": {
        "colab": {
          "base_uri": "https://localhost:8080/",
          "height": 35
        },
        "id": "KjNn1BKYhusy",
        "outputId": "efd85cb1-dbcb-4db8-d958-b28896689769"
      },
      "source": [
        "a_tags[0].text.strip()"
      ],
      "execution_count": 28,
      "outputs": [
        {
          "output_type": "execute_result",
          "data": {
            "application/vnd.google.colaboratory.intrinsic+json": {
              "type": "string"
            },
            "text/plain": [
              "'mrdoob'"
            ]
          },
          "metadata": {},
          "execution_count": 28
        }
      ]
    },
    {
      "cell_type": "code",
      "metadata": {
        "colab": {
          "base_uri": "https://localhost:8080/",
          "height": 35
        },
        "id": "HWjexgLrjxt0",
        "outputId": "62fae5c1-b506-4c05-dac1-689aaac4077e"
      },
      "source": [
        "a_tags[1].text.strip()"
      ],
      "execution_count": 29,
      "outputs": [
        {
          "output_type": "execute_result",
          "data": {
            "application/vnd.google.colaboratory.intrinsic+json": {
              "type": "string"
            },
            "text/plain": [
              "'three.js'"
            ]
          },
          "metadata": {},
          "execution_count": 29
        }
      ]
    },
    {
      "cell_type": "code",
      "metadata": {
        "colab": {
          "base_uri": "https://localhost:8080/",
          "height": 35
        },
        "id": "V1wLszTjkJBT",
        "outputId": "f7c4698c-7cea-4130-a806-f288c16683d7"
      },
      "source": [
        "base_url = 'https://github.com'\n",
        "repo_url = base_url + a_tags[1]['href']\n",
        "repo_url"
      ],
      "execution_count": 30,
      "outputs": [
        {
          "output_type": "execute_result",
          "data": {
            "application/vnd.google.colaboratory.intrinsic+json": {
              "type": "string"
            },
            "text/plain": [
              "'https://github.com/mrdoob/three.js'"
            ]
          },
          "metadata": {},
          "execution_count": 30
        }
      ]
    },
    {
      "cell_type": "code",
      "metadata": {
        "colab": {
          "base_uri": "https://localhost:8080/"
        },
        "id": "7bRmdf0jmbfb",
        "outputId": "d297114a-5cfa-4948-dbac-f4ea295f0d05"
      },
      "source": [
        "star_tags = topic_doc.find_all('a',class_= 'social-count float-none')\n",
        "len(star_tags)"
      ],
      "execution_count": 31,
      "outputs": [
        {
          "output_type": "execute_result",
          "data": {
            "text/plain": [
              "30"
            ]
          },
          "metadata": {},
          "execution_count": 31
        }
      ]
    },
    {
      "cell_type": "code",
      "metadata": {
        "colab": {
          "base_uri": "https://localhost:8080/",
          "height": 35
        },
        "id": "f6oXFizpmbaL",
        "outputId": "455f4ab8-6d37-4531-cbbe-74f781816cf8"
      },
      "source": [
        "star_tags[0].text.strip() # giving a string output"
      ],
      "execution_count": 32,
      "outputs": [
        {
          "output_type": "execute_result",
          "data": {
            "application/vnd.google.colaboratory.intrinsic+json": {
              "type": "string"
            },
            "text/plain": [
              "'74.2k'"
            ]
          },
          "metadata": {},
          "execution_count": 32
        }
      ]
    },
    {
      "cell_type": "code",
      "metadata": {
        "id": "etv8hO1utNLb"
      },
      "source": [
        "def parse_star_count(stars_str):\n",
        "  stars_str = stars_str.strip()\n",
        "  if stars_str[-1] == 'k':\n",
        "    return int(float(stars_str[:-1])*1000)\n",
        "  return int(stars_str)"
      ],
      "execution_count": 33,
      "outputs": []
    },
    {
      "cell_type": "code",
      "metadata": {
        "colab": {
          "base_uri": "https://localhost:8080/"
        },
        "id": "QoaeFEMambW2",
        "outputId": "de9675e0-d54a-4606-a909-2dd560675583"
      },
      "source": [
        " parse_star_count(star_tags[0].text.strip())"
      ],
      "execution_count": 34,
      "outputs": [
        {
          "output_type": "execute_result",
          "data": {
            "text/plain": [
              "74200"
            ]
          },
          "metadata": {},
          "execution_count": 34
        }
      ]
    },
    {
      "cell_type": "code",
      "metadata": {
        "id": "IraSK_lytzuV"
      },
      "source": [
        "def get_repo_info(h3_tag , star_tags):\n",
        "# will return all the required information about the repository\n",
        "  a_tags = h3_tag.find_all('a')\n",
        "  username = a_tags[0].text.strip()\n",
        "  repo_name = a_tags[1].text.strip()\n",
        "  stars = parse_star_count(star_tags.text.strip())\n",
        "  repo_url = base_url + a_tags[1]['href']\n",
        "  return username,repo_name,stars,repo_url"
      ],
      "execution_count": 35,
      "outputs": []
    },
    {
      "cell_type": "code",
      "metadata": {
        "colab": {
          "base_uri": "https://localhost:8080/"
        },
        "id": "qUpQF_yxmbQx",
        "outputId": "57adc039-e551-4ba4-d188-2978c752c344"
      },
      "source": [
        "get_repo_info(repo_tags[0] ,star_tags[0])"
      ],
      "execution_count": 36,
      "outputs": [
        {
          "output_type": "execute_result",
          "data": {
            "text/plain": [
              "('mrdoob', 'three.js', 74200, 'https://github.com/mrdoob/three.js')"
            ]
          },
          "metadata": {},
          "execution_count": 36
        }
      ]
    },
    {
      "cell_type": "code",
      "metadata": {
        "id": "vy0QldLPNKfS"
      },
      "source": [
        "#len(repo_tags) is 30\n",
        "\n",
        "topic_repos_dict = {\n",
        "    'username': [],\n",
        "    'repo_name':[],\n",
        "    'stars':[],\n",
        "    'repo_url':[]\n",
        "\n",
        "}\n",
        "\n",
        "for i in range(0,len(repo_tags)):\n",
        "  repo_info = get_repo_info(repo_tags[i] ,star_tags[i])\n",
        "  topic_repos_dict['username'].append(repo_info[0])\n",
        "  topic_repos_dict['repo_name'].append(repo_info[1])\n",
        "  topic_repos_dict['stars'].append(repo_info[2])\n",
        "  topic_repos_dict['repo_url'].append(repo_info[3])"
      ],
      "execution_count": 37,
      "outputs": []
    },
    {
      "cell_type": "code",
      "metadata": {
        "colab": {
          "base_uri": "https://localhost:8080/"
        },
        "id": "NOuLawozSoGC",
        "outputId": "a931c171-4f70-4f21-a025-1e466ce12ade"
      },
      "source": [
        "topic_repos_dict"
      ],
      "execution_count": 38,
      "outputs": [
        {
          "output_type": "execute_result",
          "data": {
            "text/plain": [
              "{'repo_name': ['three.js',\n",
              "  'libgdx',\n",
              "  'react-three-fiber',\n",
              "  'Babylon.js',\n",
              "  'aframe',\n",
              "  'tinyrenderer',\n",
              "  '3d-game-shaders-for-beginners',\n",
              "  'FreeCAD',\n",
              "  'zdog',\n",
              "  'cesium',\n",
              "  '3D-Machine-Learning',\n",
              "  'SpaceshipGenerator',\n",
              "  'Open3D',\n",
              "  'spritejs',\n",
              "  'tensorspace',\n",
              "  'webglstudio.js',\n",
              "  'PRNet',\n",
              "  'vrn',\n",
              "  'BlenderGIS',\n",
              "  'openscad',\n",
              "  'tinyraytracer',\n",
              "  'magnum',\n",
              "  'model-viewer',\n",
              "  'blender',\n",
              "  'webgl-fundamentals',\n",
              "  '3DDFA',\n",
              "  'isometric-contributions',\n",
              "  'rg3d',\n",
              "  'L7',\n",
              "  'meshlab'],\n",
              " 'repo_url': ['https://github.com/mrdoob/three.js',\n",
              "  'https://github.com/libgdx/libgdx',\n",
              "  'https://github.com/pmndrs/react-three-fiber',\n",
              "  'https://github.com/BabylonJS/Babylon.js',\n",
              "  'https://github.com/aframevr/aframe',\n",
              "  'https://github.com/ssloy/tinyrenderer',\n",
              "  'https://github.com/lettier/3d-game-shaders-for-beginners',\n",
              "  'https://github.com/FreeCAD/FreeCAD',\n",
              "  'https://github.com/metafizzy/zdog',\n",
              "  'https://github.com/CesiumGS/cesium',\n",
              "  'https://github.com/timzhang642/3D-Machine-Learning',\n",
              "  'https://github.com/a1studmuffin/SpaceshipGenerator',\n",
              "  'https://github.com/isl-org/Open3D',\n",
              "  'https://github.com/spritejs/spritejs',\n",
              "  'https://github.com/tensorspace-team/tensorspace',\n",
              "  'https://github.com/jagenjo/webglstudio.js',\n",
              "  'https://github.com/YadiraF/PRNet',\n",
              "  'https://github.com/AaronJackson/vrn',\n",
              "  'https://github.com/domlysz/BlenderGIS',\n",
              "  'https://github.com/openscad/openscad',\n",
              "  'https://github.com/ssloy/tinyraytracer',\n",
              "  'https://github.com/mosra/magnum',\n",
              "  'https://github.com/google/model-viewer',\n",
              "  'https://github.com/blender/blender',\n",
              "  'https://github.com/gfxfundamentals/webgl-fundamentals',\n",
              "  'https://github.com/cleardusk/3DDFA',\n",
              "  'https://github.com/jasonlong/isometric-contributions',\n",
              "  'https://github.com/rg3dengine/rg3d',\n",
              "  'https://github.com/antvis/L7',\n",
              "  'https://github.com/cnr-isti-vclab/meshlab'],\n",
              " 'stars': [74200,\n",
              "  18900,\n",
              "  15000,\n",
              "  14800,\n",
              "  13100,\n",
              "  11200,\n",
              "  11100,\n",
              "  9800,\n",
              "  8700,\n",
              "  7500,\n",
              "  7000,\n",
              "  6900,\n",
              "  5400,\n",
              "  4600,\n",
              "  4500,\n",
              "  4400,\n",
              "  4400,\n",
              "  4400,\n",
              "  4300,\n",
              "  4200,\n",
              "  3900,\n",
              "  3600,\n",
              "  3400,\n",
              "  3300,\n",
              "  3200,\n",
              "  3100,\n",
              "  3000,\n",
              "  2700,\n",
              "  2400,\n",
              "  2400],\n",
              " 'username': ['mrdoob',\n",
              "  'libgdx',\n",
              "  'pmndrs',\n",
              "  'BabylonJS',\n",
              "  'aframevr',\n",
              "  'ssloy',\n",
              "  'lettier',\n",
              "  'FreeCAD',\n",
              "  'metafizzy',\n",
              "  'CesiumGS',\n",
              "  'timzhang642',\n",
              "  'a1studmuffin',\n",
              "  'isl-org',\n",
              "  'spritejs',\n",
              "  'tensorspace-team',\n",
              "  'jagenjo',\n",
              "  'YadiraF',\n",
              "  'AaronJackson',\n",
              "  'domlysz',\n",
              "  'openscad',\n",
              "  'ssloy',\n",
              "  'mosra',\n",
              "  'google',\n",
              "  'blender',\n",
              "  'gfxfundamentals',\n",
              "  'cleardusk',\n",
              "  'jasonlong',\n",
              "  'rg3dengine',\n",
              "  'antvis',\n",
              "  'cnr-isti-vclab']}"
            ]
          },
          "metadata": {},
          "execution_count": 38
        }
      ]
    },
    {
      "cell_type": "code",
      "metadata": {
        "id": "jP6IDdmXTNF6"
      },
      "source": [
        "topic_repos_df = pd.DataFrame(topic_repos_dict)"
      ],
      "execution_count": 39,
      "outputs": []
    },
    {
      "cell_type": "code",
      "metadata": {
        "colab": {
          "base_uri": "https://localhost:8080/",
          "height": 973
        },
        "id": "DO-TGov1TWOW",
        "outputId": "9962dce2-52fb-4a1c-a87a-1986b3393225"
      },
      "source": [
        "topic_repos_df"
      ],
      "execution_count": 40,
      "outputs": [
        {
          "output_type": "execute_result",
          "data": {
            "text/html": [
              "<div>\n",
              "<style scoped>\n",
              "    .dataframe tbody tr th:only-of-type {\n",
              "        vertical-align: middle;\n",
              "    }\n",
              "\n",
              "    .dataframe tbody tr th {\n",
              "        vertical-align: top;\n",
              "    }\n",
              "\n",
              "    .dataframe thead th {\n",
              "        text-align: right;\n",
              "    }\n",
              "</style>\n",
              "<table border=\"1\" class=\"dataframe\">\n",
              "  <thead>\n",
              "    <tr style=\"text-align: right;\">\n",
              "      <th></th>\n",
              "      <th>username</th>\n",
              "      <th>repo_name</th>\n",
              "      <th>stars</th>\n",
              "      <th>repo_url</th>\n",
              "    </tr>\n",
              "  </thead>\n",
              "  <tbody>\n",
              "    <tr>\n",
              "      <th>0</th>\n",
              "      <td>mrdoob</td>\n",
              "      <td>three.js</td>\n",
              "      <td>74200</td>\n",
              "      <td>https://github.com/mrdoob/three.js</td>\n",
              "    </tr>\n",
              "    <tr>\n",
              "      <th>1</th>\n",
              "      <td>libgdx</td>\n",
              "      <td>libgdx</td>\n",
              "      <td>18900</td>\n",
              "      <td>https://github.com/libgdx/libgdx</td>\n",
              "    </tr>\n",
              "    <tr>\n",
              "      <th>2</th>\n",
              "      <td>pmndrs</td>\n",
              "      <td>react-three-fiber</td>\n",
              "      <td>15000</td>\n",
              "      <td>https://github.com/pmndrs/react-three-fiber</td>\n",
              "    </tr>\n",
              "    <tr>\n",
              "      <th>3</th>\n",
              "      <td>BabylonJS</td>\n",
              "      <td>Babylon.js</td>\n",
              "      <td>14800</td>\n",
              "      <td>https://github.com/BabylonJS/Babylon.js</td>\n",
              "    </tr>\n",
              "    <tr>\n",
              "      <th>4</th>\n",
              "      <td>aframevr</td>\n",
              "      <td>aframe</td>\n",
              "      <td>13100</td>\n",
              "      <td>https://github.com/aframevr/aframe</td>\n",
              "    </tr>\n",
              "    <tr>\n",
              "      <th>5</th>\n",
              "      <td>ssloy</td>\n",
              "      <td>tinyrenderer</td>\n",
              "      <td>11200</td>\n",
              "      <td>https://github.com/ssloy/tinyrenderer</td>\n",
              "    </tr>\n",
              "    <tr>\n",
              "      <th>6</th>\n",
              "      <td>lettier</td>\n",
              "      <td>3d-game-shaders-for-beginners</td>\n",
              "      <td>11100</td>\n",
              "      <td>https://github.com/lettier/3d-game-shaders-for...</td>\n",
              "    </tr>\n",
              "    <tr>\n",
              "      <th>7</th>\n",
              "      <td>FreeCAD</td>\n",
              "      <td>FreeCAD</td>\n",
              "      <td>9800</td>\n",
              "      <td>https://github.com/FreeCAD/FreeCAD</td>\n",
              "    </tr>\n",
              "    <tr>\n",
              "      <th>8</th>\n",
              "      <td>metafizzy</td>\n",
              "      <td>zdog</td>\n",
              "      <td>8700</td>\n",
              "      <td>https://github.com/metafizzy/zdog</td>\n",
              "    </tr>\n",
              "    <tr>\n",
              "      <th>9</th>\n",
              "      <td>CesiumGS</td>\n",
              "      <td>cesium</td>\n",
              "      <td>7500</td>\n",
              "      <td>https://github.com/CesiumGS/cesium</td>\n",
              "    </tr>\n",
              "    <tr>\n",
              "      <th>10</th>\n",
              "      <td>timzhang642</td>\n",
              "      <td>3D-Machine-Learning</td>\n",
              "      <td>7000</td>\n",
              "      <td>https://github.com/timzhang642/3D-Machine-Lear...</td>\n",
              "    </tr>\n",
              "    <tr>\n",
              "      <th>11</th>\n",
              "      <td>a1studmuffin</td>\n",
              "      <td>SpaceshipGenerator</td>\n",
              "      <td>6900</td>\n",
              "      <td>https://github.com/a1studmuffin/SpaceshipGener...</td>\n",
              "    </tr>\n",
              "    <tr>\n",
              "      <th>12</th>\n",
              "      <td>isl-org</td>\n",
              "      <td>Open3D</td>\n",
              "      <td>5400</td>\n",
              "      <td>https://github.com/isl-org/Open3D</td>\n",
              "    </tr>\n",
              "    <tr>\n",
              "      <th>13</th>\n",
              "      <td>spritejs</td>\n",
              "      <td>spritejs</td>\n",
              "      <td>4600</td>\n",
              "      <td>https://github.com/spritejs/spritejs</td>\n",
              "    </tr>\n",
              "    <tr>\n",
              "      <th>14</th>\n",
              "      <td>tensorspace-team</td>\n",
              "      <td>tensorspace</td>\n",
              "      <td>4500</td>\n",
              "      <td>https://github.com/tensorspace-team/tensorspace</td>\n",
              "    </tr>\n",
              "    <tr>\n",
              "      <th>15</th>\n",
              "      <td>jagenjo</td>\n",
              "      <td>webglstudio.js</td>\n",
              "      <td>4400</td>\n",
              "      <td>https://github.com/jagenjo/webglstudio.js</td>\n",
              "    </tr>\n",
              "    <tr>\n",
              "      <th>16</th>\n",
              "      <td>YadiraF</td>\n",
              "      <td>PRNet</td>\n",
              "      <td>4400</td>\n",
              "      <td>https://github.com/YadiraF/PRNet</td>\n",
              "    </tr>\n",
              "    <tr>\n",
              "      <th>17</th>\n",
              "      <td>AaronJackson</td>\n",
              "      <td>vrn</td>\n",
              "      <td>4400</td>\n",
              "      <td>https://github.com/AaronJackson/vrn</td>\n",
              "    </tr>\n",
              "    <tr>\n",
              "      <th>18</th>\n",
              "      <td>domlysz</td>\n",
              "      <td>BlenderGIS</td>\n",
              "      <td>4300</td>\n",
              "      <td>https://github.com/domlysz/BlenderGIS</td>\n",
              "    </tr>\n",
              "    <tr>\n",
              "      <th>19</th>\n",
              "      <td>openscad</td>\n",
              "      <td>openscad</td>\n",
              "      <td>4200</td>\n",
              "      <td>https://github.com/openscad/openscad</td>\n",
              "    </tr>\n",
              "    <tr>\n",
              "      <th>20</th>\n",
              "      <td>ssloy</td>\n",
              "      <td>tinyraytracer</td>\n",
              "      <td>3900</td>\n",
              "      <td>https://github.com/ssloy/tinyraytracer</td>\n",
              "    </tr>\n",
              "    <tr>\n",
              "      <th>21</th>\n",
              "      <td>mosra</td>\n",
              "      <td>magnum</td>\n",
              "      <td>3600</td>\n",
              "      <td>https://github.com/mosra/magnum</td>\n",
              "    </tr>\n",
              "    <tr>\n",
              "      <th>22</th>\n",
              "      <td>google</td>\n",
              "      <td>model-viewer</td>\n",
              "      <td>3400</td>\n",
              "      <td>https://github.com/google/model-viewer</td>\n",
              "    </tr>\n",
              "    <tr>\n",
              "      <th>23</th>\n",
              "      <td>blender</td>\n",
              "      <td>blender</td>\n",
              "      <td>3300</td>\n",
              "      <td>https://github.com/blender/blender</td>\n",
              "    </tr>\n",
              "    <tr>\n",
              "      <th>24</th>\n",
              "      <td>gfxfundamentals</td>\n",
              "      <td>webgl-fundamentals</td>\n",
              "      <td>3200</td>\n",
              "      <td>https://github.com/gfxfundamentals/webgl-funda...</td>\n",
              "    </tr>\n",
              "    <tr>\n",
              "      <th>25</th>\n",
              "      <td>cleardusk</td>\n",
              "      <td>3DDFA</td>\n",
              "      <td>3100</td>\n",
              "      <td>https://github.com/cleardusk/3DDFA</td>\n",
              "    </tr>\n",
              "    <tr>\n",
              "      <th>26</th>\n",
              "      <td>jasonlong</td>\n",
              "      <td>isometric-contributions</td>\n",
              "      <td>3000</td>\n",
              "      <td>https://github.com/jasonlong/isometric-contrib...</td>\n",
              "    </tr>\n",
              "    <tr>\n",
              "      <th>27</th>\n",
              "      <td>rg3dengine</td>\n",
              "      <td>rg3d</td>\n",
              "      <td>2700</td>\n",
              "      <td>https://github.com/rg3dengine/rg3d</td>\n",
              "    </tr>\n",
              "    <tr>\n",
              "      <th>28</th>\n",
              "      <td>antvis</td>\n",
              "      <td>L7</td>\n",
              "      <td>2400</td>\n",
              "      <td>https://github.com/antvis/L7</td>\n",
              "    </tr>\n",
              "    <tr>\n",
              "      <th>29</th>\n",
              "      <td>cnr-isti-vclab</td>\n",
              "      <td>meshlab</td>\n",
              "      <td>2400</td>\n",
              "      <td>https://github.com/cnr-isti-vclab/meshlab</td>\n",
              "    </tr>\n",
              "  </tbody>\n",
              "</table>\n",
              "</div>"
            ],
            "text/plain": [
              "            username  ...                                           repo_url\n",
              "0             mrdoob  ...                 https://github.com/mrdoob/three.js\n",
              "1             libgdx  ...                   https://github.com/libgdx/libgdx\n",
              "2             pmndrs  ...        https://github.com/pmndrs/react-three-fiber\n",
              "3          BabylonJS  ...            https://github.com/BabylonJS/Babylon.js\n",
              "4           aframevr  ...                 https://github.com/aframevr/aframe\n",
              "5              ssloy  ...              https://github.com/ssloy/tinyrenderer\n",
              "6            lettier  ...  https://github.com/lettier/3d-game-shaders-for...\n",
              "7            FreeCAD  ...                 https://github.com/FreeCAD/FreeCAD\n",
              "8          metafizzy  ...                  https://github.com/metafizzy/zdog\n",
              "9           CesiumGS  ...                 https://github.com/CesiumGS/cesium\n",
              "10       timzhang642  ...  https://github.com/timzhang642/3D-Machine-Lear...\n",
              "11      a1studmuffin  ...  https://github.com/a1studmuffin/SpaceshipGener...\n",
              "12           isl-org  ...                  https://github.com/isl-org/Open3D\n",
              "13          spritejs  ...               https://github.com/spritejs/spritejs\n",
              "14  tensorspace-team  ...    https://github.com/tensorspace-team/tensorspace\n",
              "15           jagenjo  ...          https://github.com/jagenjo/webglstudio.js\n",
              "16           YadiraF  ...                   https://github.com/YadiraF/PRNet\n",
              "17      AaronJackson  ...                https://github.com/AaronJackson/vrn\n",
              "18           domlysz  ...              https://github.com/domlysz/BlenderGIS\n",
              "19          openscad  ...               https://github.com/openscad/openscad\n",
              "20             ssloy  ...             https://github.com/ssloy/tinyraytracer\n",
              "21             mosra  ...                    https://github.com/mosra/magnum\n",
              "22            google  ...             https://github.com/google/model-viewer\n",
              "23           blender  ...                 https://github.com/blender/blender\n",
              "24   gfxfundamentals  ...  https://github.com/gfxfundamentals/webgl-funda...\n",
              "25         cleardusk  ...                 https://github.com/cleardusk/3DDFA\n",
              "26         jasonlong  ...  https://github.com/jasonlong/isometric-contrib...\n",
              "27        rg3dengine  ...                 https://github.com/rg3dengine/rg3d\n",
              "28            antvis  ...                       https://github.com/antvis/L7\n",
              "29    cnr-isti-vclab  ...          https://github.com/cnr-isti-vclab/meshlab\n",
              "\n",
              "[30 rows x 4 columns]"
            ]
          },
          "metadata": {},
          "execution_count": 40
        }
      ]
    },
    {
      "cell_type": "code",
      "metadata": {
        "colab": {
          "base_uri": "https://localhost:8080/"
        },
        "id": "4tJcneiIfCGC",
        "outputId": "61ef1617-d86d-4fde-fd8c-2e6dfeb44886"
      },
      "source": [
        "topic_urls"
      ],
      "execution_count": 41,
      "outputs": [
        {
          "output_type": "execute_result",
          "data": {
            "text/plain": [
              "['https://github.com/topics/3d',\n",
              " 'https://github.com/topics/ajax',\n",
              " 'https://github.com/topics/algorithm',\n",
              " 'https://github.com/topics/amphp',\n",
              " 'https://github.com/topics/android',\n",
              " 'https://github.com/topics/angular',\n",
              " 'https://github.com/topics/ansible',\n",
              " 'https://github.com/topics/api',\n",
              " 'https://github.com/topics/arduino',\n",
              " 'https://github.com/topics/aspnet',\n",
              " 'https://github.com/topics/atom',\n",
              " 'https://github.com/topics/awesome',\n",
              " 'https://github.com/topics/aws',\n",
              " 'https://github.com/topics/azure',\n",
              " 'https://github.com/topics/babel',\n",
              " 'https://github.com/topics/bash',\n",
              " 'https://github.com/topics/bitcoin',\n",
              " 'https://github.com/topics/bootstrap',\n",
              " 'https://github.com/topics/bot',\n",
              " 'https://github.com/topics/c',\n",
              " 'https://github.com/topics/chrome',\n",
              " 'https://github.com/topics/chrome-extension',\n",
              " 'https://github.com/topics/cli',\n",
              " 'https://github.com/topics/clojure',\n",
              " 'https://github.com/topics/code-quality',\n",
              " 'https://github.com/topics/code-review',\n",
              " 'https://github.com/topics/compiler',\n",
              " 'https://github.com/topics/continuous-integration',\n",
              " 'https://github.com/topics/covid-19',\n",
              " 'https://github.com/topics/cpp']"
            ]
          },
          "metadata": {},
          "execution_count": 41
        }
      ]
    },
    {
      "cell_type": "code",
      "metadata": {
        "id": "Z4a7Q0LoTqJV"
      },
      "source": [
        "# Now lets build a function for all the topics \n",
        "\n",
        "def get_topic_page(topic_urls):\n",
        "  # Download the page\n",
        "  response = requests.get(topic_urls)\n",
        "  # Check for successful response \n",
        "  if response.status_code != 200:\n",
        "    raise Exception('Failed to load page {}'.format(topic_url))\n",
        "  # Parse the page using BeautifulSoup\n",
        "  topic_doc = BeautifulSoup(response.text , 'html.parser')\n",
        "  return topic_doc\n",
        "\n",
        "def get_repo_info(h3_tag , star_tags):\n",
        "  # Will return all the required information about the repository\n",
        "  a_tags = h3_tag.find_all('a')\n",
        "  username = a_tags[0].text.strip()\n",
        "  repo_name = a_tags[1].text.strip()\n",
        "  stars = parse_star_count(star_tags.text.strip())\n",
        "  repo_url = base_url + a_tags[1]['href']\n",
        "  return username,repo_name,stars,repo_url\n",
        "  \n",
        "\n",
        "def get_topic_repos(topic_doc):\n",
        "  \n",
        "  # Get the h3 tag to get repo title , username and its urls\n",
        "  h3_selection_class = 'f3 color-text-secondary text-normal lh-condensed'\n",
        "  repo_tags = topic_doc.find_all('h3',class_=h3_selection_class)\n",
        "  # Get class to get star tag\n",
        "  star_tags = topic_doc.find_all('a',class_= 'social-count float-none')\n",
        "\n",
        "  # Finally get all repo info\n",
        "\n",
        "  topic_repos_dict = {\n",
        "    'username': [],\n",
        "    'repo_name':[],\n",
        "    'stars':[],\n",
        "    'repo_url':[]\n",
        "\n",
        "  }\n",
        "\n",
        "  for i in range(len(repo_tags)):\n",
        "    repo_info = get_repo_info(repo_tags[i] ,star_tags[i])\n",
        "    topic_repos_dict['username'].append(repo_info[0])\n",
        "    topic_repos_dict['repo_name'].append(repo_info[1])\n",
        "    topic_repos_dict['stars'].append(repo_info[2])\n",
        "    topic_repos_dict['repo_url'].append(repo_info[3])\n",
        "  return pd.DataFrame(topic_repos_dict)"
      ],
      "execution_count": 42,
      "outputs": []
    },
    {
      "cell_type": "code",
      "metadata": {
        "id": "rZQPoMG-IvtD"
      },
      "source": [
        "# Helper function\n",
        "import os\n",
        "def scrape_topic(topic_url , path):\n",
        "  #fname = topic_name + '.csv'\n",
        "  if os.path.exists(path):\n",
        "    print(\"The file {} already exists....skipping.. \".format(path))\n",
        "    return\n",
        "  topic_df = get_topic_repos(get_topic_page(topic_url))\n",
        "  \n",
        "  topic_df.to_csv(path , index=None)"
      ],
      "execution_count": 43,
      "outputs": []
    },
    {
      "cell_type": "code",
      "metadata": {
        "colab": {
          "base_uri": "https://localhost:8080/",
          "height": 35
        },
        "id": "g97F9Uy7JeN8",
        "outputId": "a7de2695-bb1e-44dc-8c05-78bd02b6bc2a"
      },
      "source": [
        "topic_url"
      ],
      "execution_count": 44,
      "outputs": [
        {
          "output_type": "execute_result",
          "data": {
            "application/vnd.google.colaboratory.intrinsic+json": {
              "type": "string"
            },
            "text/plain": [
              "'https://github.com/topics'"
            ]
          },
          "metadata": {},
          "execution_count": 44
        }
      ]
    },
    {
      "cell_type": "code",
      "metadata": {
        "colab": {
          "base_uri": "https://localhost:8080/",
          "height": 973
        },
        "id": "NM0bp_y0TqEa",
        "outputId": "91b9bf8f-8a68-4dd5-b0e7-08e448cb2640"
      },
      "source": [
        "get_topic_repos(get_topic_page(topic_urls[0]))\n"
      ],
      "execution_count": 45,
      "outputs": [
        {
          "output_type": "execute_result",
          "data": {
            "text/html": [
              "<div>\n",
              "<style scoped>\n",
              "    .dataframe tbody tr th:only-of-type {\n",
              "        vertical-align: middle;\n",
              "    }\n",
              "\n",
              "    .dataframe tbody tr th {\n",
              "        vertical-align: top;\n",
              "    }\n",
              "\n",
              "    .dataframe thead th {\n",
              "        text-align: right;\n",
              "    }\n",
              "</style>\n",
              "<table border=\"1\" class=\"dataframe\">\n",
              "  <thead>\n",
              "    <tr style=\"text-align: right;\">\n",
              "      <th></th>\n",
              "      <th>username</th>\n",
              "      <th>repo_name</th>\n",
              "      <th>stars</th>\n",
              "      <th>repo_url</th>\n",
              "    </tr>\n",
              "  </thead>\n",
              "  <tbody>\n",
              "    <tr>\n",
              "      <th>0</th>\n",
              "      <td>mrdoob</td>\n",
              "      <td>three.js</td>\n",
              "      <td>74200</td>\n",
              "      <td>https://github.com/mrdoob/three.js</td>\n",
              "    </tr>\n",
              "    <tr>\n",
              "      <th>1</th>\n",
              "      <td>libgdx</td>\n",
              "      <td>libgdx</td>\n",
              "      <td>18900</td>\n",
              "      <td>https://github.com/libgdx/libgdx</td>\n",
              "    </tr>\n",
              "    <tr>\n",
              "      <th>2</th>\n",
              "      <td>pmndrs</td>\n",
              "      <td>react-three-fiber</td>\n",
              "      <td>15000</td>\n",
              "      <td>https://github.com/pmndrs/react-three-fiber</td>\n",
              "    </tr>\n",
              "    <tr>\n",
              "      <th>3</th>\n",
              "      <td>BabylonJS</td>\n",
              "      <td>Babylon.js</td>\n",
              "      <td>14800</td>\n",
              "      <td>https://github.com/BabylonJS/Babylon.js</td>\n",
              "    </tr>\n",
              "    <tr>\n",
              "      <th>4</th>\n",
              "      <td>aframevr</td>\n",
              "      <td>aframe</td>\n",
              "      <td>13100</td>\n",
              "      <td>https://github.com/aframevr/aframe</td>\n",
              "    </tr>\n",
              "    <tr>\n",
              "      <th>5</th>\n",
              "      <td>ssloy</td>\n",
              "      <td>tinyrenderer</td>\n",
              "      <td>11200</td>\n",
              "      <td>https://github.com/ssloy/tinyrenderer</td>\n",
              "    </tr>\n",
              "    <tr>\n",
              "      <th>6</th>\n",
              "      <td>lettier</td>\n",
              "      <td>3d-game-shaders-for-beginners</td>\n",
              "      <td>11100</td>\n",
              "      <td>https://github.com/lettier/3d-game-shaders-for...</td>\n",
              "    </tr>\n",
              "    <tr>\n",
              "      <th>7</th>\n",
              "      <td>FreeCAD</td>\n",
              "      <td>FreeCAD</td>\n",
              "      <td>9800</td>\n",
              "      <td>https://github.com/FreeCAD/FreeCAD</td>\n",
              "    </tr>\n",
              "    <tr>\n",
              "      <th>8</th>\n",
              "      <td>metafizzy</td>\n",
              "      <td>zdog</td>\n",
              "      <td>8700</td>\n",
              "      <td>https://github.com/metafizzy/zdog</td>\n",
              "    </tr>\n",
              "    <tr>\n",
              "      <th>9</th>\n",
              "      <td>CesiumGS</td>\n",
              "      <td>cesium</td>\n",
              "      <td>7500</td>\n",
              "      <td>https://github.com/CesiumGS/cesium</td>\n",
              "    </tr>\n",
              "    <tr>\n",
              "      <th>10</th>\n",
              "      <td>timzhang642</td>\n",
              "      <td>3D-Machine-Learning</td>\n",
              "      <td>7000</td>\n",
              "      <td>https://github.com/timzhang642/3D-Machine-Lear...</td>\n",
              "    </tr>\n",
              "    <tr>\n",
              "      <th>11</th>\n",
              "      <td>a1studmuffin</td>\n",
              "      <td>SpaceshipGenerator</td>\n",
              "      <td>6900</td>\n",
              "      <td>https://github.com/a1studmuffin/SpaceshipGener...</td>\n",
              "    </tr>\n",
              "    <tr>\n",
              "      <th>12</th>\n",
              "      <td>isl-org</td>\n",
              "      <td>Open3D</td>\n",
              "      <td>5400</td>\n",
              "      <td>https://github.com/isl-org/Open3D</td>\n",
              "    </tr>\n",
              "    <tr>\n",
              "      <th>13</th>\n",
              "      <td>spritejs</td>\n",
              "      <td>spritejs</td>\n",
              "      <td>4600</td>\n",
              "      <td>https://github.com/spritejs/spritejs</td>\n",
              "    </tr>\n",
              "    <tr>\n",
              "      <th>14</th>\n",
              "      <td>tensorspace-team</td>\n",
              "      <td>tensorspace</td>\n",
              "      <td>4500</td>\n",
              "      <td>https://github.com/tensorspace-team/tensorspace</td>\n",
              "    </tr>\n",
              "    <tr>\n",
              "      <th>15</th>\n",
              "      <td>jagenjo</td>\n",
              "      <td>webglstudio.js</td>\n",
              "      <td>4400</td>\n",
              "      <td>https://github.com/jagenjo/webglstudio.js</td>\n",
              "    </tr>\n",
              "    <tr>\n",
              "      <th>16</th>\n",
              "      <td>YadiraF</td>\n",
              "      <td>PRNet</td>\n",
              "      <td>4400</td>\n",
              "      <td>https://github.com/YadiraF/PRNet</td>\n",
              "    </tr>\n",
              "    <tr>\n",
              "      <th>17</th>\n",
              "      <td>AaronJackson</td>\n",
              "      <td>vrn</td>\n",
              "      <td>4400</td>\n",
              "      <td>https://github.com/AaronJackson/vrn</td>\n",
              "    </tr>\n",
              "    <tr>\n",
              "      <th>18</th>\n",
              "      <td>domlysz</td>\n",
              "      <td>BlenderGIS</td>\n",
              "      <td>4300</td>\n",
              "      <td>https://github.com/domlysz/BlenderGIS</td>\n",
              "    </tr>\n",
              "    <tr>\n",
              "      <th>19</th>\n",
              "      <td>openscad</td>\n",
              "      <td>openscad</td>\n",
              "      <td>4200</td>\n",
              "      <td>https://github.com/openscad/openscad</td>\n",
              "    </tr>\n",
              "    <tr>\n",
              "      <th>20</th>\n",
              "      <td>ssloy</td>\n",
              "      <td>tinyraytracer</td>\n",
              "      <td>3900</td>\n",
              "      <td>https://github.com/ssloy/tinyraytracer</td>\n",
              "    </tr>\n",
              "    <tr>\n",
              "      <th>21</th>\n",
              "      <td>mosra</td>\n",
              "      <td>magnum</td>\n",
              "      <td>3600</td>\n",
              "      <td>https://github.com/mosra/magnum</td>\n",
              "    </tr>\n",
              "    <tr>\n",
              "      <th>22</th>\n",
              "      <td>google</td>\n",
              "      <td>model-viewer</td>\n",
              "      <td>3400</td>\n",
              "      <td>https://github.com/google/model-viewer</td>\n",
              "    </tr>\n",
              "    <tr>\n",
              "      <th>23</th>\n",
              "      <td>blender</td>\n",
              "      <td>blender</td>\n",
              "      <td>3300</td>\n",
              "      <td>https://github.com/blender/blender</td>\n",
              "    </tr>\n",
              "    <tr>\n",
              "      <th>24</th>\n",
              "      <td>gfxfundamentals</td>\n",
              "      <td>webgl-fundamentals</td>\n",
              "      <td>3200</td>\n",
              "      <td>https://github.com/gfxfundamentals/webgl-funda...</td>\n",
              "    </tr>\n",
              "    <tr>\n",
              "      <th>25</th>\n",
              "      <td>cleardusk</td>\n",
              "      <td>3DDFA</td>\n",
              "      <td>3100</td>\n",
              "      <td>https://github.com/cleardusk/3DDFA</td>\n",
              "    </tr>\n",
              "    <tr>\n",
              "      <th>26</th>\n",
              "      <td>jasonlong</td>\n",
              "      <td>isometric-contributions</td>\n",
              "      <td>3000</td>\n",
              "      <td>https://github.com/jasonlong/isometric-contrib...</td>\n",
              "    </tr>\n",
              "    <tr>\n",
              "      <th>27</th>\n",
              "      <td>rg3dengine</td>\n",
              "      <td>rg3d</td>\n",
              "      <td>2700</td>\n",
              "      <td>https://github.com/rg3dengine/rg3d</td>\n",
              "    </tr>\n",
              "    <tr>\n",
              "      <th>28</th>\n",
              "      <td>antvis</td>\n",
              "      <td>L7</td>\n",
              "      <td>2400</td>\n",
              "      <td>https://github.com/antvis/L7</td>\n",
              "    </tr>\n",
              "    <tr>\n",
              "      <th>29</th>\n",
              "      <td>cnr-isti-vclab</td>\n",
              "      <td>meshlab</td>\n",
              "      <td>2400</td>\n",
              "      <td>https://github.com/cnr-isti-vclab/meshlab</td>\n",
              "    </tr>\n",
              "  </tbody>\n",
              "</table>\n",
              "</div>"
            ],
            "text/plain": [
              "            username  ...                                           repo_url\n",
              "0             mrdoob  ...                 https://github.com/mrdoob/three.js\n",
              "1             libgdx  ...                   https://github.com/libgdx/libgdx\n",
              "2             pmndrs  ...        https://github.com/pmndrs/react-three-fiber\n",
              "3          BabylonJS  ...            https://github.com/BabylonJS/Babylon.js\n",
              "4           aframevr  ...                 https://github.com/aframevr/aframe\n",
              "5              ssloy  ...              https://github.com/ssloy/tinyrenderer\n",
              "6            lettier  ...  https://github.com/lettier/3d-game-shaders-for...\n",
              "7            FreeCAD  ...                 https://github.com/FreeCAD/FreeCAD\n",
              "8          metafizzy  ...                  https://github.com/metafizzy/zdog\n",
              "9           CesiumGS  ...                 https://github.com/CesiumGS/cesium\n",
              "10       timzhang642  ...  https://github.com/timzhang642/3D-Machine-Lear...\n",
              "11      a1studmuffin  ...  https://github.com/a1studmuffin/SpaceshipGener...\n",
              "12           isl-org  ...                  https://github.com/isl-org/Open3D\n",
              "13          spritejs  ...               https://github.com/spritejs/spritejs\n",
              "14  tensorspace-team  ...    https://github.com/tensorspace-team/tensorspace\n",
              "15           jagenjo  ...          https://github.com/jagenjo/webglstudio.js\n",
              "16           YadiraF  ...                   https://github.com/YadiraF/PRNet\n",
              "17      AaronJackson  ...                https://github.com/AaronJackson/vrn\n",
              "18           domlysz  ...              https://github.com/domlysz/BlenderGIS\n",
              "19          openscad  ...               https://github.com/openscad/openscad\n",
              "20             ssloy  ...             https://github.com/ssloy/tinyraytracer\n",
              "21             mosra  ...                    https://github.com/mosra/magnum\n",
              "22            google  ...             https://github.com/google/model-viewer\n",
              "23           blender  ...                 https://github.com/blender/blender\n",
              "24   gfxfundamentals  ...  https://github.com/gfxfundamentals/webgl-funda...\n",
              "25         cleardusk  ...                 https://github.com/cleardusk/3DDFA\n",
              "26         jasonlong  ...  https://github.com/jasonlong/isometric-contrib...\n",
              "27        rg3dengine  ...                 https://github.com/rg3dengine/rg3d\n",
              "28            antvis  ...                       https://github.com/antvis/L7\n",
              "29    cnr-isti-vclab  ...          https://github.com/cnr-isti-vclab/meshlab\n",
              "\n",
              "[30 rows x 4 columns]"
            ]
          },
          "metadata": {},
          "execution_count": 45
        }
      ]
    },
    {
      "cell_type": "code",
      "metadata": {
        "id": "SyL3JXVQTp_i"
      },
      "source": [
        ""
      ],
      "execution_count": 45,
      "outputs": []
    },
    {
      "cell_type": "markdown",
      "metadata": {
        "id": "LXPFY4KAhmkw"
      },
      "source": [
        "# **Scaling the code**"
      ]
    },
    {
      "cell_type": "markdown",
      "metadata": {
        "id": "FULGFH3ohy02"
      },
      "source": [
        "Write a single function to\n",
        "- Get the list of topics from the topic page\n",
        "- Get the list of top repositiories from the each individual topic\n",
        "- For each topic , create a CSV for their top rerepositiories having\n",
        " - repository name , username , stars and repository url"
      ]
    },
    {
      "cell_type": "code",
      "metadata": {
        "id": "Rpju1WALTp7h"
      },
      "source": [
        "def get_topic_titles(doc):\n",
        "  selection_class = 'f3 lh-condensed mb-0 mt-1 Link--primary'\n",
        "  topic_title_tags = doc.find_all('p',class_=selection_class)\n",
        "  topic_titles = []\n",
        "  for tag in topic_title_tags:\n",
        "    topic_titles.append(tag.text)\n",
        "  return topic_titles\n",
        "\n",
        "def get_topic_descs(doc):\n",
        "  desc_selector = 'f5 color-text-secondary mb-0 mt-1'\n",
        "  topic_desc_tags = doc.find_all('p',class_=desc_selector)\n",
        "  topic_descs = []\n",
        "  for desc in topic_desc_tags:\n",
        "    topic_descs.append(desc.text.strip())\n",
        "  return topic_descs\n",
        "\n",
        "def get_topic_urls(doc):\n",
        "  topic_link_tags = doc.find_all('a',class_='d-flex no-underline')\n",
        "  topic_urls = []\n",
        "  base_url = \"https://github.com\"\n",
        "  for url in topic_link_tags:\n",
        "    topic_urls.append(base_url + url['href'])\n",
        "  return topic_urls\n",
        "\n",
        "\n",
        "def scrape_topics():\n",
        "  topics_url = 'https://github.com/topics'\n",
        "  response = requests.get(topics_url)\n",
        "   # Check for successful response \n",
        "  if response.status_code != 200:\n",
        "    raise Exception('Failed to load page {}'.format(topics_url))\n",
        "  topics_dict = {\n",
        "      'title':get_topic_titles(doc),\n",
        "      'description':get_topic_descs(doc),\n",
        "      'url':get_topic_urls(doc)\n",
        "  }\n",
        "  return pd.DataFrame(topics_dict)\n"
      ],
      "execution_count": 46,
      "outputs": []
    },
    {
      "cell_type": "code",
      "metadata": {
        "id": "ypexfGOgTp2T",
        "colab": {
          "base_uri": "https://localhost:8080/",
          "height": 973
        },
        "outputId": "af224687-f20c-4665-bcce-ec3570b6e92d"
      },
      "source": [
        "scrape_topics()"
      ],
      "execution_count": 47,
      "outputs": [
        {
          "output_type": "execute_result",
          "data": {
            "text/html": [
              "<div>\n",
              "<style scoped>\n",
              "    .dataframe tbody tr th:only-of-type {\n",
              "        vertical-align: middle;\n",
              "    }\n",
              "\n",
              "    .dataframe tbody tr th {\n",
              "        vertical-align: top;\n",
              "    }\n",
              "\n",
              "    .dataframe thead th {\n",
              "        text-align: right;\n",
              "    }\n",
              "</style>\n",
              "<table border=\"1\" class=\"dataframe\">\n",
              "  <thead>\n",
              "    <tr style=\"text-align: right;\">\n",
              "      <th></th>\n",
              "      <th>title</th>\n",
              "      <th>description</th>\n",
              "      <th>url</th>\n",
              "    </tr>\n",
              "  </thead>\n",
              "  <tbody>\n",
              "    <tr>\n",
              "      <th>0</th>\n",
              "      <td>3D</td>\n",
              "      <td>3D modeling is the process of virtually develo...</td>\n",
              "      <td>https://github.com/topics/3d</td>\n",
              "    </tr>\n",
              "    <tr>\n",
              "      <th>1</th>\n",
              "      <td>Ajax</td>\n",
              "      <td>Ajax is a technique for creating interactive w...</td>\n",
              "      <td>https://github.com/topics/ajax</td>\n",
              "    </tr>\n",
              "    <tr>\n",
              "      <th>2</th>\n",
              "      <td>Algorithm</td>\n",
              "      <td>Algorithms are self-contained sequences that c...</td>\n",
              "      <td>https://github.com/topics/algorithm</td>\n",
              "    </tr>\n",
              "    <tr>\n",
              "      <th>3</th>\n",
              "      <td>Amp</td>\n",
              "      <td>Amp is a non-blocking concurrency framework fo...</td>\n",
              "      <td>https://github.com/topics/amphp</td>\n",
              "    </tr>\n",
              "    <tr>\n",
              "      <th>4</th>\n",
              "      <td>Android</td>\n",
              "      <td>Android is an operating system built by Google...</td>\n",
              "      <td>https://github.com/topics/android</td>\n",
              "    </tr>\n",
              "    <tr>\n",
              "      <th>5</th>\n",
              "      <td>Angular</td>\n",
              "      <td>Angular is an open source web application plat...</td>\n",
              "      <td>https://github.com/topics/angular</td>\n",
              "    </tr>\n",
              "    <tr>\n",
              "      <th>6</th>\n",
              "      <td>Ansible</td>\n",
              "      <td>Ansible is a simple and powerful automation en...</td>\n",
              "      <td>https://github.com/topics/ansible</td>\n",
              "    </tr>\n",
              "    <tr>\n",
              "      <th>7</th>\n",
              "      <td>API</td>\n",
              "      <td>An API (Application Programming Interface) is ...</td>\n",
              "      <td>https://github.com/topics/api</td>\n",
              "    </tr>\n",
              "    <tr>\n",
              "      <th>8</th>\n",
              "      <td>Arduino</td>\n",
              "      <td>Arduino is an open source hardware and softwar...</td>\n",
              "      <td>https://github.com/topics/arduino</td>\n",
              "    </tr>\n",
              "    <tr>\n",
              "      <th>9</th>\n",
              "      <td>ASP.NET</td>\n",
              "      <td>ASP.NET is a web framework for building modern...</td>\n",
              "      <td>https://github.com/topics/aspnet</td>\n",
              "    </tr>\n",
              "    <tr>\n",
              "      <th>10</th>\n",
              "      <td>Atom</td>\n",
              "      <td>Atom is a open source text editor built with w...</td>\n",
              "      <td>https://github.com/topics/atom</td>\n",
              "    </tr>\n",
              "    <tr>\n",
              "      <th>11</th>\n",
              "      <td>Awesome Lists</td>\n",
              "      <td>An awesome list is a list of awesome things cu...</td>\n",
              "      <td>https://github.com/topics/awesome</td>\n",
              "    </tr>\n",
              "    <tr>\n",
              "      <th>12</th>\n",
              "      <td>Amazon Web Services</td>\n",
              "      <td>Amazon Web Services provides on-demand cloud c...</td>\n",
              "      <td>https://github.com/topics/aws</td>\n",
              "    </tr>\n",
              "    <tr>\n",
              "      <th>13</th>\n",
              "      <td>Azure</td>\n",
              "      <td>Azure is a cloud computing service created by ...</td>\n",
              "      <td>https://github.com/topics/azure</td>\n",
              "    </tr>\n",
              "    <tr>\n",
              "      <th>14</th>\n",
              "      <td>Babel</td>\n",
              "      <td>Babel is a compiler for writing next generatio...</td>\n",
              "      <td>https://github.com/topics/babel</td>\n",
              "    </tr>\n",
              "    <tr>\n",
              "      <th>15</th>\n",
              "      <td>Bash</td>\n",
              "      <td>Bash is a shell and command language interpret...</td>\n",
              "      <td>https://github.com/topics/bash</td>\n",
              "    </tr>\n",
              "    <tr>\n",
              "      <th>16</th>\n",
              "      <td>Bitcoin</td>\n",
              "      <td>Bitcoin is a cryptocurrency developed by Satos...</td>\n",
              "      <td>https://github.com/topics/bitcoin</td>\n",
              "    </tr>\n",
              "    <tr>\n",
              "      <th>17</th>\n",
              "      <td>Bootstrap</td>\n",
              "      <td>Bootstrap is an HTML, CSS, and JavaScript fram...</td>\n",
              "      <td>https://github.com/topics/bootstrap</td>\n",
              "    </tr>\n",
              "    <tr>\n",
              "      <th>18</th>\n",
              "      <td>Bot</td>\n",
              "      <td>A bot is an application that runs automated ta...</td>\n",
              "      <td>https://github.com/topics/bot</td>\n",
              "    </tr>\n",
              "    <tr>\n",
              "      <th>19</th>\n",
              "      <td>C</td>\n",
              "      <td>C is a general purpose programming language th...</td>\n",
              "      <td>https://github.com/topics/c</td>\n",
              "    </tr>\n",
              "    <tr>\n",
              "      <th>20</th>\n",
              "      <td>Chrome</td>\n",
              "      <td>Chrome is a web browser from the tech company ...</td>\n",
              "      <td>https://github.com/topics/chrome</td>\n",
              "    </tr>\n",
              "    <tr>\n",
              "      <th>21</th>\n",
              "      <td>Chrome extension</td>\n",
              "      <td>Google Chrome Extensions are add-ons that allo...</td>\n",
              "      <td>https://github.com/topics/chrome-extension</td>\n",
              "    </tr>\n",
              "    <tr>\n",
              "      <th>22</th>\n",
              "      <td>Command line interface</td>\n",
              "      <td>A CLI, or command-line interface, is a console...</td>\n",
              "      <td>https://github.com/topics/cli</td>\n",
              "    </tr>\n",
              "    <tr>\n",
              "      <th>23</th>\n",
              "      <td>Clojure</td>\n",
              "      <td>Clojure is a dynamic, general-purpose programm...</td>\n",
              "      <td>https://github.com/topics/clojure</td>\n",
              "    </tr>\n",
              "    <tr>\n",
              "      <th>24</th>\n",
              "      <td>Code quality</td>\n",
              "      <td>Automate your code review with style, quality,...</td>\n",
              "      <td>https://github.com/topics/code-quality</td>\n",
              "    </tr>\n",
              "    <tr>\n",
              "      <th>25</th>\n",
              "      <td>Code review</td>\n",
              "      <td>Ensure your code meets quality standards and s...</td>\n",
              "      <td>https://github.com/topics/code-review</td>\n",
              "    </tr>\n",
              "    <tr>\n",
              "      <th>26</th>\n",
              "      <td>Compiler</td>\n",
              "      <td>Compilers are software that translate higher-l...</td>\n",
              "      <td>https://github.com/topics/compiler</td>\n",
              "    </tr>\n",
              "    <tr>\n",
              "      <th>27</th>\n",
              "      <td>Continuous integration</td>\n",
              "      <td>Automatically build and test your code as you ...</td>\n",
              "      <td>https://github.com/topics/continuous-integration</td>\n",
              "    </tr>\n",
              "    <tr>\n",
              "      <th>28</th>\n",
              "      <td>COVID-19</td>\n",
              "      <td>The coronavirus disease 2019 (COVID-19) is an ...</td>\n",
              "      <td>https://github.com/topics/covid-19</td>\n",
              "    </tr>\n",
              "    <tr>\n",
              "      <th>29</th>\n",
              "      <td>C++</td>\n",
              "      <td>C++ is a general purpose and object-oriented p...</td>\n",
              "      <td>https://github.com/topics/cpp</td>\n",
              "    </tr>\n",
              "  </tbody>\n",
              "</table>\n",
              "</div>"
            ],
            "text/plain": [
              "                     title  ...                                               url\n",
              "0                       3D  ...                      https://github.com/topics/3d\n",
              "1                     Ajax  ...                    https://github.com/topics/ajax\n",
              "2                Algorithm  ...               https://github.com/topics/algorithm\n",
              "3                      Amp  ...                   https://github.com/topics/amphp\n",
              "4                  Android  ...                 https://github.com/topics/android\n",
              "5                  Angular  ...                 https://github.com/topics/angular\n",
              "6                  Ansible  ...                 https://github.com/topics/ansible\n",
              "7                      API  ...                     https://github.com/topics/api\n",
              "8                  Arduino  ...                 https://github.com/topics/arduino\n",
              "9                  ASP.NET  ...                  https://github.com/topics/aspnet\n",
              "10                    Atom  ...                    https://github.com/topics/atom\n",
              "11           Awesome Lists  ...                 https://github.com/topics/awesome\n",
              "12     Amazon Web Services  ...                     https://github.com/topics/aws\n",
              "13                   Azure  ...                   https://github.com/topics/azure\n",
              "14                   Babel  ...                   https://github.com/topics/babel\n",
              "15                    Bash  ...                    https://github.com/topics/bash\n",
              "16                 Bitcoin  ...                 https://github.com/topics/bitcoin\n",
              "17               Bootstrap  ...               https://github.com/topics/bootstrap\n",
              "18                     Bot  ...                     https://github.com/topics/bot\n",
              "19                       C  ...                       https://github.com/topics/c\n",
              "20                  Chrome  ...                  https://github.com/topics/chrome\n",
              "21        Chrome extension  ...        https://github.com/topics/chrome-extension\n",
              "22  Command line interface  ...                     https://github.com/topics/cli\n",
              "23                 Clojure  ...                 https://github.com/topics/clojure\n",
              "24            Code quality  ...            https://github.com/topics/code-quality\n",
              "25             Code review  ...             https://github.com/topics/code-review\n",
              "26                Compiler  ...                https://github.com/topics/compiler\n",
              "27  Continuous integration  ...  https://github.com/topics/continuous-integration\n",
              "28                COVID-19  ...                https://github.com/topics/covid-19\n",
              "29                     C++  ...                     https://github.com/topics/cpp\n",
              "\n",
              "[30 rows x 3 columns]"
            ]
          },
          "metadata": {},
          "execution_count": 47
        }
      ]
    },
    {
      "cell_type": "code",
      "metadata": {
        "id": "gqVryZyYacM0"
      },
      "source": [
        "import os\n",
        "\n",
        "def scrape_topics_repos():\n",
        "  print(\"Scraping list of topics from Github\")\n",
        "  topics_df = scrape_topics()\n",
        "  # Creating a folder\n",
        "  os.makedirs('data',exist_ok=True)\n",
        "\n",
        "  for index , row in topics_df.iterrows(): # Looping over rows in pandas data frame\n",
        "    print(\"Scraping top repository for {}\".format(row['title']))\n",
        "    scrape_topic(row['url'],'data/{}.csv'.format(row['title']))"
      ],
      "execution_count": 48,
      "outputs": []
    },
    {
      "cell_type": "code",
      "metadata": {
        "colab": {
          "base_uri": "https://localhost:8080/",
          "height": 973
        },
        "id": "dSlQe4TXKSMl",
        "outputId": "79181f45-3afb-4599-beb0-d95615330384"
      },
      "source": [
        "topics_df"
      ],
      "execution_count": 49,
      "outputs": [
        {
          "output_type": "execute_result",
          "data": {
            "text/html": [
              "<div>\n",
              "<style scoped>\n",
              "    .dataframe tbody tr th:only-of-type {\n",
              "        vertical-align: middle;\n",
              "    }\n",
              "\n",
              "    .dataframe tbody tr th {\n",
              "        vertical-align: top;\n",
              "    }\n",
              "\n",
              "    .dataframe thead th {\n",
              "        text-align: right;\n",
              "    }\n",
              "</style>\n",
              "<table border=\"1\" class=\"dataframe\">\n",
              "  <thead>\n",
              "    <tr style=\"text-align: right;\">\n",
              "      <th></th>\n",
              "      <th>title</th>\n",
              "      <th>description</th>\n",
              "      <th>url</th>\n",
              "    </tr>\n",
              "  </thead>\n",
              "  <tbody>\n",
              "    <tr>\n",
              "      <th>0</th>\n",
              "      <td>3D</td>\n",
              "      <td>3D modeling is the process of virtually develo...</td>\n",
              "      <td>https://github.com/topics/3d</td>\n",
              "    </tr>\n",
              "    <tr>\n",
              "      <th>1</th>\n",
              "      <td>Ajax</td>\n",
              "      <td>Ajax is a technique for creating interactive w...</td>\n",
              "      <td>https://github.com/topics/ajax</td>\n",
              "    </tr>\n",
              "    <tr>\n",
              "      <th>2</th>\n",
              "      <td>Algorithm</td>\n",
              "      <td>Algorithms are self-contained sequences that c...</td>\n",
              "      <td>https://github.com/topics/algorithm</td>\n",
              "    </tr>\n",
              "    <tr>\n",
              "      <th>3</th>\n",
              "      <td>Amp</td>\n",
              "      <td>Amp is a non-blocking concurrency framework fo...</td>\n",
              "      <td>https://github.com/topics/amphp</td>\n",
              "    </tr>\n",
              "    <tr>\n",
              "      <th>4</th>\n",
              "      <td>Android</td>\n",
              "      <td>Android is an operating system built by Google...</td>\n",
              "      <td>https://github.com/topics/android</td>\n",
              "    </tr>\n",
              "    <tr>\n",
              "      <th>5</th>\n",
              "      <td>Angular</td>\n",
              "      <td>Angular is an open source web application plat...</td>\n",
              "      <td>https://github.com/topics/angular</td>\n",
              "    </tr>\n",
              "    <tr>\n",
              "      <th>6</th>\n",
              "      <td>Ansible</td>\n",
              "      <td>Ansible is a simple and powerful automation en...</td>\n",
              "      <td>https://github.com/topics/ansible</td>\n",
              "    </tr>\n",
              "    <tr>\n",
              "      <th>7</th>\n",
              "      <td>API</td>\n",
              "      <td>An API (Application Programming Interface) is ...</td>\n",
              "      <td>https://github.com/topics/api</td>\n",
              "    </tr>\n",
              "    <tr>\n",
              "      <th>8</th>\n",
              "      <td>Arduino</td>\n",
              "      <td>Arduino is an open source hardware and softwar...</td>\n",
              "      <td>https://github.com/topics/arduino</td>\n",
              "    </tr>\n",
              "    <tr>\n",
              "      <th>9</th>\n",
              "      <td>ASP.NET</td>\n",
              "      <td>ASP.NET is a web framework for building modern...</td>\n",
              "      <td>https://github.com/topics/aspnet</td>\n",
              "    </tr>\n",
              "    <tr>\n",
              "      <th>10</th>\n",
              "      <td>Atom</td>\n",
              "      <td>Atom is a open source text editor built with w...</td>\n",
              "      <td>https://github.com/topics/atom</td>\n",
              "    </tr>\n",
              "    <tr>\n",
              "      <th>11</th>\n",
              "      <td>Awesome Lists</td>\n",
              "      <td>An awesome list is a list of awesome things cu...</td>\n",
              "      <td>https://github.com/topics/awesome</td>\n",
              "    </tr>\n",
              "    <tr>\n",
              "      <th>12</th>\n",
              "      <td>Amazon Web Services</td>\n",
              "      <td>Amazon Web Services provides on-demand cloud c...</td>\n",
              "      <td>https://github.com/topics/aws</td>\n",
              "    </tr>\n",
              "    <tr>\n",
              "      <th>13</th>\n",
              "      <td>Azure</td>\n",
              "      <td>Azure is a cloud computing service created by ...</td>\n",
              "      <td>https://github.com/topics/azure</td>\n",
              "    </tr>\n",
              "    <tr>\n",
              "      <th>14</th>\n",
              "      <td>Babel</td>\n",
              "      <td>Babel is a compiler for writing next generatio...</td>\n",
              "      <td>https://github.com/topics/babel</td>\n",
              "    </tr>\n",
              "    <tr>\n",
              "      <th>15</th>\n",
              "      <td>Bash</td>\n",
              "      <td>Bash is a shell and command language interpret...</td>\n",
              "      <td>https://github.com/topics/bash</td>\n",
              "    </tr>\n",
              "    <tr>\n",
              "      <th>16</th>\n",
              "      <td>Bitcoin</td>\n",
              "      <td>Bitcoin is a cryptocurrency developed by Satos...</td>\n",
              "      <td>https://github.com/topics/bitcoin</td>\n",
              "    </tr>\n",
              "    <tr>\n",
              "      <th>17</th>\n",
              "      <td>Bootstrap</td>\n",
              "      <td>Bootstrap is an HTML, CSS, and JavaScript fram...</td>\n",
              "      <td>https://github.com/topics/bootstrap</td>\n",
              "    </tr>\n",
              "    <tr>\n",
              "      <th>18</th>\n",
              "      <td>Bot</td>\n",
              "      <td>A bot is an application that runs automated ta...</td>\n",
              "      <td>https://github.com/topics/bot</td>\n",
              "    </tr>\n",
              "    <tr>\n",
              "      <th>19</th>\n",
              "      <td>C</td>\n",
              "      <td>C is a general purpose programming language th...</td>\n",
              "      <td>https://github.com/topics/c</td>\n",
              "    </tr>\n",
              "    <tr>\n",
              "      <th>20</th>\n",
              "      <td>Chrome</td>\n",
              "      <td>Chrome is a web browser from the tech company ...</td>\n",
              "      <td>https://github.com/topics/chrome</td>\n",
              "    </tr>\n",
              "    <tr>\n",
              "      <th>21</th>\n",
              "      <td>Chrome extension</td>\n",
              "      <td>Google Chrome Extensions are add-ons that allo...</td>\n",
              "      <td>https://github.com/topics/chrome-extension</td>\n",
              "    </tr>\n",
              "    <tr>\n",
              "      <th>22</th>\n",
              "      <td>Command line interface</td>\n",
              "      <td>A CLI, or command-line interface, is a console...</td>\n",
              "      <td>https://github.com/topics/cli</td>\n",
              "    </tr>\n",
              "    <tr>\n",
              "      <th>23</th>\n",
              "      <td>Clojure</td>\n",
              "      <td>Clojure is a dynamic, general-purpose programm...</td>\n",
              "      <td>https://github.com/topics/clojure</td>\n",
              "    </tr>\n",
              "    <tr>\n",
              "      <th>24</th>\n",
              "      <td>Code quality</td>\n",
              "      <td>Automate your code review with style, quality,...</td>\n",
              "      <td>https://github.com/topics/code-quality</td>\n",
              "    </tr>\n",
              "    <tr>\n",
              "      <th>25</th>\n",
              "      <td>Code review</td>\n",
              "      <td>Ensure your code meets quality standards and s...</td>\n",
              "      <td>https://github.com/topics/code-review</td>\n",
              "    </tr>\n",
              "    <tr>\n",
              "      <th>26</th>\n",
              "      <td>Compiler</td>\n",
              "      <td>Compilers are software that translate higher-l...</td>\n",
              "      <td>https://github.com/topics/compiler</td>\n",
              "    </tr>\n",
              "    <tr>\n",
              "      <th>27</th>\n",
              "      <td>Continuous integration</td>\n",
              "      <td>Automatically build and test your code as you ...</td>\n",
              "      <td>https://github.com/topics/continuous-integration</td>\n",
              "    </tr>\n",
              "    <tr>\n",
              "      <th>28</th>\n",
              "      <td>COVID-19</td>\n",
              "      <td>The coronavirus disease 2019 (COVID-19) is an ...</td>\n",
              "      <td>https://github.com/topics/covid-19</td>\n",
              "    </tr>\n",
              "    <tr>\n",
              "      <th>29</th>\n",
              "      <td>C++</td>\n",
              "      <td>C++ is a general purpose and object-oriented p...</td>\n",
              "      <td>https://github.com/topics/cpp</td>\n",
              "    </tr>\n",
              "  </tbody>\n",
              "</table>\n",
              "</div>"
            ],
            "text/plain": [
              "                     title  ...                                               url\n",
              "0                       3D  ...                      https://github.com/topics/3d\n",
              "1                     Ajax  ...                    https://github.com/topics/ajax\n",
              "2                Algorithm  ...               https://github.com/topics/algorithm\n",
              "3                      Amp  ...                   https://github.com/topics/amphp\n",
              "4                  Android  ...                 https://github.com/topics/android\n",
              "5                  Angular  ...                 https://github.com/topics/angular\n",
              "6                  Ansible  ...                 https://github.com/topics/ansible\n",
              "7                      API  ...                     https://github.com/topics/api\n",
              "8                  Arduino  ...                 https://github.com/topics/arduino\n",
              "9                  ASP.NET  ...                  https://github.com/topics/aspnet\n",
              "10                    Atom  ...                    https://github.com/topics/atom\n",
              "11           Awesome Lists  ...                 https://github.com/topics/awesome\n",
              "12     Amazon Web Services  ...                     https://github.com/topics/aws\n",
              "13                   Azure  ...                   https://github.com/topics/azure\n",
              "14                   Babel  ...                   https://github.com/topics/babel\n",
              "15                    Bash  ...                    https://github.com/topics/bash\n",
              "16                 Bitcoin  ...                 https://github.com/topics/bitcoin\n",
              "17               Bootstrap  ...               https://github.com/topics/bootstrap\n",
              "18                     Bot  ...                     https://github.com/topics/bot\n",
              "19                       C  ...                       https://github.com/topics/c\n",
              "20                  Chrome  ...                  https://github.com/topics/chrome\n",
              "21        Chrome extension  ...        https://github.com/topics/chrome-extension\n",
              "22  Command line interface  ...                     https://github.com/topics/cli\n",
              "23                 Clojure  ...                 https://github.com/topics/clojure\n",
              "24            Code quality  ...            https://github.com/topics/code-quality\n",
              "25             Code review  ...             https://github.com/topics/code-review\n",
              "26                Compiler  ...                https://github.com/topics/compiler\n",
              "27  Continuous integration  ...  https://github.com/topics/continuous-integration\n",
              "28                COVID-19  ...                https://github.com/topics/covid-19\n",
              "29                     C++  ...                     https://github.com/topics/cpp\n",
              "\n",
              "[30 rows x 3 columns]"
            ]
          },
          "metadata": {},
          "execution_count": 49
        }
      ]
    },
    {
      "cell_type": "code",
      "metadata": {
        "colab": {
          "base_uri": "https://localhost:8080/"
        },
        "id": "pveJxKIOKTQD",
        "outputId": "b02ad50f-7452-4487-bdc9-bdd99f008090"
      },
      "source": [
        "scrape_topics_repos()"
      ],
      "execution_count": 52,
      "outputs": [
        {
          "output_type": "stream",
          "name": "stdout",
          "text": [
            "Scraping list of topics from Github\n",
            "Scraping top repository for 3D\n",
            "The file data/3D.csv already exists....skipping.. \n",
            "Scraping top repository for Ajax\n",
            "The file data/Ajax.csv already exists....skipping.. \n",
            "Scraping top repository for Algorithm\n",
            "The file data/Algorithm.csv already exists....skipping.. \n",
            "Scraping top repository for Amp\n",
            "The file data/Amp.csv already exists....skipping.. \n",
            "Scraping top repository for Android\n",
            "The file data/Android.csv already exists....skipping.. \n",
            "Scraping top repository for Angular\n",
            "The file data/Angular.csv already exists....skipping.. \n",
            "Scraping top repository for Ansible\n",
            "The file data/Ansible.csv already exists....skipping.. \n",
            "Scraping top repository for API\n",
            "The file data/API.csv already exists....skipping.. \n",
            "Scraping top repository for Arduino\n",
            "The file data/Arduino.csv already exists....skipping.. \n",
            "Scraping top repository for ASP.NET\n",
            "The file data/ASP.NET.csv already exists....skipping.. \n",
            "Scraping top repository for Atom\n",
            "The file data/Atom.csv already exists....skipping.. \n",
            "Scraping top repository for Awesome Lists\n",
            "The file data/Awesome Lists.csv already exists....skipping.. \n",
            "Scraping top repository for Amazon Web Services\n",
            "The file data/Amazon Web Services.csv already exists....skipping.. \n",
            "Scraping top repository for Azure\n",
            "The file data/Azure.csv already exists....skipping.. \n",
            "Scraping top repository for Babel\n",
            "The file data/Babel.csv already exists....skipping.. \n",
            "Scraping top repository for Bash\n",
            "The file data/Bash.csv already exists....skipping.. \n",
            "Scraping top repository for Bitcoin\n",
            "The file data/Bitcoin.csv already exists....skipping.. \n",
            "Scraping top repository for Bootstrap\n",
            "Scraping top repository for Bot\n",
            "Scraping top repository for C\n",
            "Scraping top repository for Chrome\n",
            "Scraping top repository for Chrome extension\n",
            "Scraping top repository for Command line interface\n",
            "Scraping top repository for Clojure\n",
            "Scraping top repository for Code quality\n",
            "Scraping top repository for Code review\n",
            "Scraping top repository for Compiler\n",
            "Scraping top repository for Continuous integration\n",
            "Scraping top repository for COVID-19\n",
            "Scraping top repository for C++\n"
          ]
        }
      ]
    }
  ]
}